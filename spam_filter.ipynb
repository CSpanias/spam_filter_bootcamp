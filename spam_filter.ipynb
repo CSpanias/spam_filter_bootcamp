{
  "nbformat": 4,
  "nbformat_minor": 0,
  "metadata": {
    "colab": {
      "name": "spam_filter.ipynb",
      "provenance": [],
      "include_colab_link": true
    },
    "kernelspec": {
      "name": "python3",
      "display_name": "Python 3"
    },
    "language_info": {
      "name": "python"
    }
  },
  "cells": [
    {
      "cell_type": "markdown",
      "metadata": {
        "id": "view-in-github",
        "colab_type": "text"
      },
      "source": [
        "<a href=\"https://colab.research.google.com/github/CSpanias/spam_filter_bootcamp/blob/master/spam_filter.ipynb\" target=\"_parent\"><img src=\"https://colab.research.google.com/assets/colab-badge.svg\" alt=\"Open In Colab\"/></a>"
      ]
    },
    {
      "cell_type": "markdown",
      "source": [
        "# **SPAM FILTER**\n",
        "*Author: [Charalampos Spanias](https://github.com/CSpanias)*\n",
        "\n",
        "## This project was developed as an assignment for:\n",
        "  * [Skills Bootcamp in Artificial Intelligence](https://instituteofcoding.org/skillsbootcamps/course/skills-bootcamp-in-artificial-intelligence/).\n",
        "\n",
        "## This code is mainly based on: \n",
        "  * [Email Spam Detection Using Python & Machine Learning](https://www.youtube.com/watch?v=cNLPt02RwF0&list=WL&index=4&t=12s)\n",
        "\t\n",
        "\n",
        "## It was modified based on:\n",
        "  * [Spam or Ham tutorial](https://github.com/tejank10/Spam-or-Ham/blob/master/spam_ham.ipynb)\n",
        "\n",
        "  * [SVM Classifier tutorial](https://www.kaggle.com/prashant111/svm-classifier-tutorial/notebook)\n",
        "\n",
        "  * [Sololearn (Machine Learning path)](https://www.sololearn.com/learning/1094)\n",
        "\n",
        "  * [Machine Learning for Absolute Beginners book](https://www.amazon.co.uk/Machine-Learning-Absolute-Beginners-Introduction-ebook/dp/B08RWBSKQB)"
      ],
      "metadata": {
        "id": "XM6eD_ef3i2A"
      }
    },
    {
      "cell_type": "markdown",
      "source": [
        "# **CONTENT**\n",
        "\n",
        "1. [Data Cleaning](#DataCleaning)\n",
        "2. [Object Manipulation (nltk)](#nltk)\n",
        "3. [Naive-Bayes](#Naive-Bayes)\n",
        "  * [K-Fold Cross Validation](#NBkfold)\n",
        "  * [Model Evaluation](#NB-Eval)\n",
        "\n",
        "4. [Support Vector Machine](#SVM)\n",
        "  * [K-Fold Cross Validation](#SVCkfold)\n",
        "  * [Hyperparameter Optimization (GridSearchCV)](#GridSearchCV)\n",
        "  * [Model Evaluation](#GS-Eval)\n",
        "\n",
        "5. [Results & Conclusions](#Res-Con)\n",
        "\n"
      ],
      "metadata": {
        "id": "e32bKifVU4pu"
      }
    },
    {
      "cell_type": "code",
      "source": [
        ""
      ],
      "metadata": {
        "id": "Hi-exvTxfpfG"
      },
      "execution_count": null,
      "outputs": []
    },
    {
      "cell_type": "markdown",
      "source": [
        "Import the required libraries:\n",
        "  1. ***pandas*** for importing dataset(*)\n",
        "  2. ***matplotlib***, ***seaborn*** & ***IPython*** for visualisation\n",
        "  3. ***string*** & ***nltk*** for object manipulation\n",
        "  4. ***sklearn*** for machine learning\n",
        "  5. ***wordcloud*** for wordcloud visualization"
      ],
      "metadata": {
        "id": "fqk_kbbZ4me2"
      }
    },
    {
      "cell_type": "code",
      "source": [
        "import pandas as pd\n",
        "import matplotlib.pyplot as plt\n",
        "import seaborn as sns\n",
        "import string\n",
        "import nltk\n",
        "\n",
        "from nltk.corpus import stopwords\n",
        "from wordcloud import WordCloud\n",
        "\n",
        "from IPython.display import display\n",
        "\n",
        "from sklearn.feature_extraction.text import CountVectorizer\n",
        "\n",
        "from sklearn.model_selection import train_test_split, cross_val_score, cross_val_predict\n",
        "from sklearn.model_selection import KFold, StratifiedKFold, GridSearchCV, cross_validate\n",
        "\n",
        "from sklearn.naive_bayes import MultinomialNB, BernoulliNB, ComplementNB\n",
        "from sklearn.svm import SVC\n",
        "\n",
        "from sklearn.metrics import classification_report, confusion_matrix, log_loss\n",
        "from sklearn.metrics import recall_score, f1_score, precision_score, accuracy_score\n",
        "from sklearn.metrics import roc_auc_score, roc_curve, brier_score_loss, make_scorer"
      ],
      "metadata": {
        "id": "Txnvms_15iyD"
      },
      "execution_count": 1,
      "outputs": []
    },
    {
      "cell_type": "code",
      "source": [
        "# read the CSV file\n",
        "df = pd.read_csv('https://raw.githubusercontent.com/CSpanias/spam_filter_bootcamp/master/emails.csv')\n",
        "\n",
        "# print the first 5 rows of data\n",
        "df.head()"
      ],
      "metadata": {
        "colab": {
          "base_uri": "https://localhost:8080/",
          "height": 206
        },
        "id": "E5gGjf3F6DCK",
        "outputId": "e3434c2a-c36b-4584-fa1d-8d94f668aaba"
      },
      "execution_count": 2,
      "outputs": [
        {
          "output_type": "execute_result",
          "data": {
            "text/html": [
              "\n",
              "  <div id=\"df-8626a6b1-f68f-4bef-bf5e-b7f7926d251f\">\n",
              "    <div class=\"colab-df-container\">\n",
              "      <div>\n",
              "<style scoped>\n",
              "    .dataframe tbody tr th:only-of-type {\n",
              "        vertical-align: middle;\n",
              "    }\n",
              "\n",
              "    .dataframe tbody tr th {\n",
              "        vertical-align: top;\n",
              "    }\n",
              "\n",
              "    .dataframe thead th {\n",
              "        text-align: right;\n",
              "    }\n",
              "</style>\n",
              "<table border=\"1\" class=\"dataframe\">\n",
              "  <thead>\n",
              "    <tr style=\"text-align: right;\">\n",
              "      <th></th>\n",
              "      <th>text</th>\n",
              "      <th>spam</th>\n",
              "    </tr>\n",
              "  </thead>\n",
              "  <tbody>\n",
              "    <tr>\n",
              "      <th>0</th>\n",
              "      <td>Subject: naturally irresistible your corporate...</td>\n",
              "      <td>1</td>\n",
              "    </tr>\n",
              "    <tr>\n",
              "      <th>1</th>\n",
              "      <td>Subject: the stock trading gunslinger  fanny i...</td>\n",
              "      <td>1</td>\n",
              "    </tr>\n",
              "    <tr>\n",
              "      <th>2</th>\n",
              "      <td>Subject: unbelievable new homes made easy  im ...</td>\n",
              "      <td>1</td>\n",
              "    </tr>\n",
              "    <tr>\n",
              "      <th>3</th>\n",
              "      <td>Subject: 4 color printing special  request add...</td>\n",
              "      <td>1</td>\n",
              "    </tr>\n",
              "    <tr>\n",
              "      <th>4</th>\n",
              "      <td>Subject: do not have money , get software cds ...</td>\n",
              "      <td>1</td>\n",
              "    </tr>\n",
              "  </tbody>\n",
              "</table>\n",
              "</div>\n",
              "      <button class=\"colab-df-convert\" onclick=\"convertToInteractive('df-8626a6b1-f68f-4bef-bf5e-b7f7926d251f')\"\n",
              "              title=\"Convert this dataframe to an interactive table.\"\n",
              "              style=\"display:none;\">\n",
              "        \n",
              "  <svg xmlns=\"http://www.w3.org/2000/svg\" height=\"24px\"viewBox=\"0 0 24 24\"\n",
              "       width=\"24px\">\n",
              "    <path d=\"M0 0h24v24H0V0z\" fill=\"none\"/>\n",
              "    <path d=\"M18.56 5.44l.94 2.06.94-2.06 2.06-.94-2.06-.94-.94-2.06-.94 2.06-2.06.94zm-11 1L8.5 8.5l.94-2.06 2.06-.94-2.06-.94L8.5 2.5l-.94 2.06-2.06.94zm10 10l.94 2.06.94-2.06 2.06-.94-2.06-.94-.94-2.06-.94 2.06-2.06.94z\"/><path d=\"M17.41 7.96l-1.37-1.37c-.4-.4-.92-.59-1.43-.59-.52 0-1.04.2-1.43.59L10.3 9.45l-7.72 7.72c-.78.78-.78 2.05 0 2.83L4 21.41c.39.39.9.59 1.41.59.51 0 1.02-.2 1.41-.59l7.78-7.78 2.81-2.81c.8-.78.8-2.07 0-2.86zM5.41 20L4 18.59l7.72-7.72 1.47 1.35L5.41 20z\"/>\n",
              "  </svg>\n",
              "      </button>\n",
              "      \n",
              "  <style>\n",
              "    .colab-df-container {\n",
              "      display:flex;\n",
              "      flex-wrap:wrap;\n",
              "      gap: 12px;\n",
              "    }\n",
              "\n",
              "    .colab-df-convert {\n",
              "      background-color: #E8F0FE;\n",
              "      border: none;\n",
              "      border-radius: 50%;\n",
              "      cursor: pointer;\n",
              "      display: none;\n",
              "      fill: #1967D2;\n",
              "      height: 32px;\n",
              "      padding: 0 0 0 0;\n",
              "      width: 32px;\n",
              "    }\n",
              "\n",
              "    .colab-df-convert:hover {\n",
              "      background-color: #E2EBFA;\n",
              "      box-shadow: 0px 1px 2px rgba(60, 64, 67, 0.3), 0px 1px 3px 1px rgba(60, 64, 67, 0.15);\n",
              "      fill: #174EA6;\n",
              "    }\n",
              "\n",
              "    [theme=dark] .colab-df-convert {\n",
              "      background-color: #3B4455;\n",
              "      fill: #D2E3FC;\n",
              "    }\n",
              "\n",
              "    [theme=dark] .colab-df-convert:hover {\n",
              "      background-color: #434B5C;\n",
              "      box-shadow: 0px 1px 3px 1px rgba(0, 0, 0, 0.15);\n",
              "      filter: drop-shadow(0px 1px 2px rgba(0, 0, 0, 0.3));\n",
              "      fill: #FFFFFF;\n",
              "    }\n",
              "  </style>\n",
              "\n",
              "      <script>\n",
              "        const buttonEl =\n",
              "          document.querySelector('#df-8626a6b1-f68f-4bef-bf5e-b7f7926d251f button.colab-df-convert');\n",
              "        buttonEl.style.display =\n",
              "          google.colab.kernel.accessAllowed ? 'block' : 'none';\n",
              "\n",
              "        async function convertToInteractive(key) {\n",
              "          const element = document.querySelector('#df-8626a6b1-f68f-4bef-bf5e-b7f7926d251f');\n",
              "          const dataTable =\n",
              "            await google.colab.kernel.invokeFunction('convertToInteractive',\n",
              "                                                     [key], {});\n",
              "          if (!dataTable) return;\n",
              "\n",
              "          const docLinkHtml = 'Like what you see? Visit the ' +\n",
              "            '<a target=\"_blank\" href=https://colab.research.google.com/notebooks/data_table.ipynb>data table notebook</a>'\n",
              "            + ' to learn more about interactive tables.';\n",
              "          element.innerHTML = '';\n",
              "          dataTable['output_type'] = 'display_data';\n",
              "          await google.colab.output.renderOutput(dataTable, element);\n",
              "          const docLink = document.createElement('div');\n",
              "          docLink.innerHTML = docLinkHtml;\n",
              "          element.appendChild(docLink);\n",
              "        }\n",
              "      </script>\n",
              "    </div>\n",
              "  </div>\n",
              "  "
            ],
            "text/plain": [
              "                                                text  spam\n",
              "0  Subject: naturally irresistible your corporate...     1\n",
              "1  Subject: the stock trading gunslinger  fanny i...     1\n",
              "2  Subject: unbelievable new homes made easy  im ...     1\n",
              "3  Subject: 4 color printing special  request add...     1\n",
              "4  Subject: do not have money , get software cds ...     1"
            ]
          },
          "metadata": {},
          "execution_count": 2
        }
      ]
    },
    {
      "cell_type": "markdown",
      "source": [
        "<a name=\"DataCleaning\"> </a>\n",
        "# **Data Cleaning Process**\n",
        "\n",
        "  * Duplicates\n",
        "  * Missing values"
      ],
      "metadata": {
        "id": "m4gOV1tU5uP9"
      }
    },
    {
      "cell_type": "code",
      "source": [
        "# print the number of rows and columns\n",
        "df.shape"
      ],
      "metadata": {
        "colab": {
          "base_uri": "https://localhost:8080/"
        },
        "id": "4gr1AB2P6nUi",
        "outputId": "5b4ad210-0ccd-4b04-9fc8-dc242f8ab1f7"
      },
      "execution_count": 3,
      "outputs": [
        {
          "output_type": "execute_result",
          "data": {
            "text/plain": [
              "(5728, 2)"
            ]
          },
          "metadata": {},
          "execution_count": 3
        }
      ]
    },
    {
      "cell_type": "code",
      "source": [
        "# check for duplicates\n",
        "df.duplicated().sum()"
      ],
      "metadata": {
        "colab": {
          "base_uri": "https://localhost:8080/"
        },
        "id": "X3EGNuGx7DRc",
        "outputId": "297c91a3-07cc-48c7-d887-8716e10a21bc"
      },
      "execution_count": 4,
      "outputs": [
        {
          "output_type": "execute_result",
          "data": {
            "text/plain": [
              "33"
            ]
          },
          "metadata": {},
          "execution_count": 4
        }
      ]
    },
    {
      "cell_type": "code",
      "source": [
        "# remove duplicates\n",
        "df.drop_duplicates(inplace=True)"
      ],
      "metadata": {
        "id": "-fJFv5ywxkcR"
      },
      "execution_count": 5,
      "outputs": []
    },
    {
      "cell_type": "code",
      "source": [
        "# check for missing values\n",
        "df.isna().sum()"
      ],
      "metadata": {
        "colab": {
          "base_uri": "https://localhost:8080/"
        },
        "id": "mtGEU4OD7Zfr",
        "outputId": "821d814e-bdbc-4a78-f570-396c9e291cc4"
      },
      "execution_count": 6,
      "outputs": [
        {
          "output_type": "execute_result",
          "data": {
            "text/plain": [
              "text    0\n",
              "spam    0\n",
              "dtype: int64"
            ]
          },
          "metadata": {},
          "execution_count": 6
        }
      ]
    },
    {
      "cell_type": "markdown",
      "source": [
        "<a name=\"nltk\"> </a>\n",
        "# **Object Manipulation Process**\n",
        "\n",
        "  1. Remove punctuation from text\n",
        "  2. Remove stopwords from text\n",
        "  3. Split text in individual words\n",
        "\n",
        "More info about nltk and Natural Language Processing (NLP) [here](https://www.nltk.org/book/?fbclid=IwAR1q2paswiXV1dMllJyKBxXmIVgbnes_KD3YKg4Kko6V_T4_nVXKjcYMyDE)."
      ],
      "metadata": {
        "id": "7xjNB42_55-M"
      }
    },
    {
      "cell_type": "markdown",
      "source": [
        "Define a function that:\n",
        "  1. Removes punctuation symbols and stopwords from a text\n",
        "  2. Splits the text into individual words\n",
        "  3. Stores the individual words in a list"
      ],
      "metadata": {
        "id": "kfoDk6a48Cv7"
      }
    },
    {
      "cell_type": "code",
      "source": [
        "def process_text(text):\n",
        "\t\"\"\"\n",
        "\t\tReturns a list of strings (individual words) of a text (paragraph) excluding\n",
        "\t\tpunctuation, stopwords.\n",
        "\n",
        "\t\t\tParameters\n",
        "\t\t\t----------\n",
        "\t\t\t\ttext: An object (string) variable.\n",
        "\n",
        "\t\t\tReturns\n",
        "\t\t\t-------\n",
        "\t\t\t\tclean_words: A list of objects (string).\n",
        "\t\"\"\"\n",
        "\t# create an empty list to later store the rows (emails) without punctuation\n",
        "\tno_punctuation = []\n",
        "\t# create an empty list to later store the words of each row (email)\n",
        "\tclean_words = []\n",
        "\t# for every row (email) in the text column\n",
        "\tfor char in text:\n",
        "\t\t# remove every punctuation symbol\n",
        "\t\tif char not in string.punctuation:\n",
        "\t\t\t# append the free-of-punctuation row in the list \"no_punctuation\"\n",
        "\t\t\tno_punctuation.append(char)\n",
        "\t# insert an empty space between words\n",
        "\tno_punctuation = ''.join(no_punctuation)\n",
        "\n",
        "\t# for every row (email without punctuation symbols) in\n",
        "\t# the \"no_punctuation\" list split the text into words\n",
        "\tfor word in no_punctuation.split():\n",
        "\t\t# convert every word in lowercase\n",
        "\t\tword = word.lower()\n",
        "\t\t# if this word is not a stopword\n",
        "\t\tif word not in stopwords.words('english'):\n",
        "\t\t\t# append the free-of-stopwords words in the list \"clean_words\"\n",
        "\t\t\tclean_words.append(word)\n",
        "\t# give back the list \"clean_words\"\n",
        "\treturn clean_words"
      ],
      "metadata": {
        "id": "fpDMtR4z70cu"
      },
      "execution_count": 7,
      "outputs": []
    },
    {
      "cell_type": "markdown",
      "source": [
        "Apply the function \"process_text\" to the column \"text\" so we end up with a column of individual words and print the first 5 rows."
      ],
      "metadata": {
        "id": "osvKJd988MKC"
      }
    },
    {
      "cell_type": "code",
      "source": [
        "import nltk\n",
        "nltk.download('stopwords')\n",
        "\n",
        "df['text'].head().apply(process_text)"
      ],
      "metadata": {
        "colab": {
          "base_uri": "https://localhost:8080/"
        },
        "id": "Emaa6D687bSz",
        "outputId": "4931263f-7a08-4096-86f3-f5178782596f"
      },
      "execution_count": 8,
      "outputs": [
        {
          "output_type": "stream",
          "name": "stdout",
          "text": [
            "[nltk_data] Downloading package stopwords to /root/nltk_data...\n",
            "[nltk_data]   Package stopwords is already up-to-date!\n"
          ]
        },
        {
          "output_type": "execute_result",
          "data": {
            "text/plain": [
              "0    [subject, naturally, irresistible, corporate, ...\n",
              "1    [subject, stock, trading, gunslinger, fanny, m...\n",
              "2    [subject, unbelievable, new, homes, made, easy...\n",
              "3    [subject, 4, color, printing, special, request...\n",
              "4    [subject, money, get, software, cds, software,...\n",
              "Name: text, dtype: object"
            ]
          },
          "metadata": {},
          "execution_count": 8
        }
      ]
    },
    {
      "cell_type": "markdown",
      "source": [
        "***CountVectorizer*** transforms a given text into a vector on the basis of \n",
        "the frequency (count) of each word that occurs in the entire text. \n",
        "\n",
        "More info on how it works [here](https://www.geeksforgeeks.org/using-countvectorizer-to-extracting-features-from-text/)."
      ],
      "metadata": {
        "id": "g-D_nAy-A4ns"
      }
    },
    {
      "cell_type": "code",
      "source": [
        "# convert a collection of text to a matrix of tokens (*bow = bog of words)\n",
        "messages_bow = CountVectorizer(analyzer=process_text).fit_transform(df['text'])"
      ],
      "metadata": {
        "id": "Db0l3CaH9i4h"
      },
      "execution_count": 9,
      "outputs": []
    },
    {
      "cell_type": "markdown",
      "source": [
        "Create a **wordcloud visualisation** for the spam words."
      ],
      "metadata": {
        "id": "zhh1oUjWAh7O"
      }
    },
    {
      "cell_type": "code",
      "source": [
        "spam_wordcloud = WordCloud(width=512, height=512).generate(' '.join(df['text'][df['spam']==1]))\n",
        "plt.figure(figsize=(10, 8), facecolor='k')\n",
        "plt.imshow(spam_wordcloud)\n",
        "plt.axis('off')\n",
        "plt.tight_layout(pad=0)\n",
        "plt.show()"
      ],
      "metadata": {
        "colab": {
          "base_uri": "https://localhost:8080/",
          "height": 607
        },
        "id": "keL09TNF84NL",
        "outputId": "71a943d5-274b-45f3-ef8c-c7ec651bf6fa"
      },
      "execution_count": 10,
      "outputs": [
        {
          "output_type": "display_data",
          "data": {
            "image/png": "[encoded data removed]",
            "text/plain": [
              "<Figure size 720x576 with 1 Axes>"
            ]
          },
          "metadata": {}
        }
      ]
    },
    {
      "cell_type": "markdown",
      "source": [
        "<a name=\"training\"> </a>\n",
        "# **Model Training Process**"
      ],
      "metadata": {
        "id": "sY9NtlGuBNAO"
      }
    },
    {
      "cell_type": "code",
      "source": [
        "# assign X and y variables\n",
        "X = messages_bow\n",
        "y = df['spam']"
      ],
      "metadata": {
        "id": "baBMnQVcA2f1"
      },
      "execution_count": 10,
      "outputs": []
    },
    {
      "cell_type": "code",
      "source": [
        "# get the shape of X (rows, columns)\n",
        "X.shape"
      ],
      "metadata": {
        "colab": {
          "base_uri": "https://localhost:8080/"
        },
        "id": "QQDHanoNBeD0",
        "outputId": "82b9f850-4c5b-4675-ca00-22a92ee780ee"
      },
      "execution_count": 11,
      "outputs": [
        {
          "output_type": "execute_result",
          "data": {
            "text/plain": [
              "(5695, 37228)"
            ]
          },
          "metadata": {},
          "execution_count": 11
        }
      ]
    },
    {
      "cell_type": "markdown",
      "source": [
        "<a name=\"NaiveBayes\"> </a>\n",
        "# **Naive-Bayes**\n",
        "\n",
        "Why Naive-Bayes?\n",
        "  1. Binary classification task.\n",
        "  2. Features are independent.\n",
        "\n",
        "Which Naive-Bayes?\n",
        "  1. **Multinomial** \n",
        "    * Assumes data is multinomially distributed.\n",
        "    * Primarily used for document classification tasks based on ***word frequency***! Relevant?\n",
        "  2. **Bernoulli**\n",
        "    * Similar to Multinomial, but the features are ***independent Boolean variables***.\n",
        "    * For example, if a word is present is not! More suitable for our task?\n",
        "  3. **Complemenent** \n",
        "    * An adaptation of the multinomial naive Bayes algorithm that is particularly suited for ***imbalanced data sets***!"
      ],
      "metadata": {
        "id": "u4-hx4KY8oSp"
      }
    },
    {
      "cell_type": "markdown",
      "source": [
        "<a name=\"NBkfold\"></a>\n",
        "# **K-Fold Cross-Validation**\n",
        "\n",
        "**K-fold cross-validation** is a very useful technique to evaluate model \n",
        "performance. Instead of doing a single training-test split, we split our dataset multiple times.\n",
        "\n",
        "The reasons behind K-Fold are:\n",
        "  1. A certain split selected randomly at the start (*random_state=10*) may not be optimal. \n",
        "  2. The test set generated from that split is never used to evaluate the model.\n",
        "\n",
        "<img src=\"https://miro.medium.com/max/875/1*rgba1BIOUys7wQcXcL4U5A.png\" alt=\"drawing\" width=\"500\"/>\n",
        "\n",
        "But, it fails here because we have a ***imbalanced dataset***, so instead ***stratified k-fold cross-validation*** will be used. In the latter, the dataset is split such that the proportions between classes are the same in each fold as they are in the whole dataset.\n",
        "\n",
        "<img src=\"https://miro.medium.com/max/875/1*D9OJZ-n0xh9d87i58WfMLQ.png\" alt=\"drawing\" width=\"500\"/>"
      ],
      "metadata": {
        "id": "cPZPmxg591Yt"
      }
    },
    {
      "cell_type": "code",
      "source": [
        "# select the model(s)\n",
        "model_mnb = MultinomialNB()\n",
        "model_ber = BernoulliNB()\n",
        "model_com = ComplementNB()\n",
        "\n",
        "# choose how many train/test sets we want by \"n_splits\"\n",
        "kfold = StratifiedKFold(n_splits=10, shuffle=True, random_state=44)\n",
        "\n",
        "# calculate the accuracy score of each of the 5 train/test sets\n",
        "mnb_scores = cross_val_score(model_mnb, X, y, cv=kfold)\n",
        "ber_scores = cross_val_score(model_ber, X, y, cv=kfold)\n",
        "com_scores = cross_val_score(model_com, X, y, cv=kfold)\n",
        "\n",
        "# print average cross-validation scores\n",
        "print('\\nAverage stratified cross-validation score with Multinomial NB:',\n",
        "      round(mnb_scores.mean(), 4))\n",
        "print('Average stratified cross-validation score with Bernoulli NB:',\n",
        "      round(ber_scores.mean(), 4))\n",
        "print('Average stratified cross-validation score with Complement NB:',\n",
        "      round(com_scores.mean(), 4))\n",
        "print('')\n",
        "# convert list of scores to dataframe\n",
        "mnb_splits = pd.DataFrame(mnb_scores, columns = ['Individual splits for MNB'])\n",
        "# display dataframe as a table\n",
        "display(mnb_splits)"
      ],
      "metadata": {
        "id": "H8GWZFNbM0ju",
        "outputId": "8a79c526-701f-4e3d-92ea-39219c35d687",
        "colab": {
          "base_uri": "https://localhost:8080/",
          "height": 454
        }
      },
      "execution_count": 12,
      "outputs": [
        {
          "output_type": "stream",
          "name": "stdout",
          "text": [
            "\n",
            "Average stratified cross-validation score with Multinomial NB: 0.9902\n",
            "Average stratified cross-validation score with Bernoulli NB: 0.9856\n",
            "Average stratified cross-validation score with Complement NB: 0.99\n",
            "\n"
          ]
        },
        {
          "output_type": "display_data",
          "data": {
            "text/html": [
              "\n",
              "  <div id=\"df-e8741c54-bd50-4a23-aacb-55814d883e86\">\n",
              "    <div class=\"colab-df-container\">\n",
              "      <div>\n",
              "<style scoped>\n",
              "    .dataframe tbody tr th:only-of-type {\n",
              "        vertical-align: middle;\n",
              "    }\n",
              "\n",
              "    .dataframe tbody tr th {\n",
              "        vertical-align: top;\n",
              "    }\n",
              "\n",
              "    .dataframe thead th {\n",
              "        text-align: right;\n",
              "    }\n",
              "</style>\n",
              "<table border=\"1\" class=\"dataframe\">\n",
              "  <thead>\n",
              "    <tr style=\"text-align: right;\">\n",
              "      <th></th>\n",
              "      <th>Individual splits for MNB</th>\n",
              "    </tr>\n",
              "  </thead>\n",
              "  <tbody>\n",
              "    <tr>\n",
              "      <th>0</th>\n",
              "      <td>0.984211</td>\n",
              "    </tr>\n",
              "    <tr>\n",
              "      <th>1</th>\n",
              "      <td>0.992982</td>\n",
              "    </tr>\n",
              "    <tr>\n",
              "      <th>2</th>\n",
              "      <td>0.987719</td>\n",
              "    </tr>\n",
              "    <tr>\n",
              "      <th>3</th>\n",
              "      <td>0.987719</td>\n",
              "    </tr>\n",
              "    <tr>\n",
              "      <th>4</th>\n",
              "      <td>0.991228</td>\n",
              "    </tr>\n",
              "    <tr>\n",
              "      <th>5</th>\n",
              "      <td>0.989455</td>\n",
              "    </tr>\n",
              "    <tr>\n",
              "      <th>6</th>\n",
              "      <td>0.987698</td>\n",
              "    </tr>\n",
              "    <tr>\n",
              "      <th>7</th>\n",
              "      <td>0.992970</td>\n",
              "    </tr>\n",
              "    <tr>\n",
              "      <th>8</th>\n",
              "      <td>0.994728</td>\n",
              "    </tr>\n",
              "    <tr>\n",
              "      <th>9</th>\n",
              "      <td>0.992970</td>\n",
              "    </tr>\n",
              "  </tbody>\n",
              "</table>\n",
              "</div>\n",
              "      <button class=\"colab-df-convert\" onclick=\"convertToInteractive('df-e8741c54-bd50-4a23-aacb-55814d883e86')\"\n",
              "              title=\"Convert this dataframe to an interactive table.\"\n",
              "              style=\"display:none;\">\n",
              "        \n",
              "  <svg xmlns=\"http://www.w3.org/2000/svg\" height=\"24px\"viewBox=\"0 0 24 24\"\n",
              "       width=\"24px\">\n",
              "    <path d=\"M0 0h24v24H0V0z\" fill=\"none\"/>\n",
              "    <path d=\"M18.56 5.44l.94 2.06.94-2.06 2.06-.94-2.06-.94-.94-2.06-.94 2.06-2.06.94zm-11 1L8.5 8.5l.94-2.06 2.06-.94-2.06-.94L8.5 2.5l-.94 2.06-2.06.94zm10 10l.94 2.06.94-2.06 2.06-.94-2.06-.94-.94-2.06-.94 2.06-2.06.94z\"/><path d=\"M17.41 7.96l-1.37-1.37c-.4-.4-.92-.59-1.43-.59-.52 0-1.04.2-1.43.59L10.3 9.45l-7.72 7.72c-.78.78-.78 2.05 0 2.83L4 21.41c.39.39.9.59 1.41.59.51 0 1.02-.2 1.41-.59l7.78-7.78 2.81-2.81c.8-.78.8-2.07 0-2.86zM5.41 20L4 18.59l7.72-7.72 1.47 1.35L5.41 20z\"/>\n",
              "  </svg>\n",
              "      </button>\n",
              "      \n",
              "  <style>\n",
              "    .colab-df-container {\n",
              "      display:flex;\n",
              "      flex-wrap:wrap;\n",
              "      gap: 12px;\n",
              "    }\n",
              "\n",
              "    .colab-df-convert {\n",
              "      background-color: #E8F0FE;\n",
              "      border: none;\n",
              "      border-radius: 50%;\n",
              "      cursor: pointer;\n",
              "      display: none;\n",
              "      fill: #1967D2;\n",
              "      height: 32px;\n",
              "      padding: 0 0 0 0;\n",
              "      width: 32px;\n",
              "    }\n",
              "\n",
              "    .colab-df-convert:hover {\n",
              "      background-color: #E2EBFA;\n",
              "      box-shadow: 0px 1px 2px rgba(60, 64, 67, 0.3), 0px 1px 3px 1px rgba(60, 64, 67, 0.15);\n",
              "      fill: #174EA6;\n",
              "    }\n",
              "\n",
              "    [theme=dark] .colab-df-convert {\n",
              "      background-color: #3B4455;\n",
              "      fill: #D2E3FC;\n",
              "    }\n",
              "\n",
              "    [theme=dark] .colab-df-convert:hover {\n",
              "      background-color: #434B5C;\n",
              "      box-shadow: 0px 1px 3px 1px rgba(0, 0, 0, 0.15);\n",
              "      filter: drop-shadow(0px 1px 2px rgba(0, 0, 0, 0.3));\n",
              "      fill: #FFFFFF;\n",
              "    }\n",
              "  </style>\n",
              "\n",
              "      <script>\n",
              "        const buttonEl =\n",
              "          document.querySelector('#df-e8741c54-bd50-4a23-aacb-55814d883e86 button.colab-df-convert');\n",
              "        buttonEl.style.display =\n",
              "          google.colab.kernel.accessAllowed ? 'block' : 'none';\n",
              "\n",
              "        async function convertToInteractive(key) {\n",
              "          const element = document.querySelector('#df-e8741c54-bd50-4a23-aacb-55814d883e86');\n",
              "          const dataTable =\n",
              "            await google.colab.kernel.invokeFunction('convertToInteractive',\n",
              "                                                     [key], {});\n",
              "          if (!dataTable) return;\n",
              "\n",
              "          const docLinkHtml = 'Like what you see? Visit the ' +\n",
              "            '<a target=\"_blank\" href=https://colab.research.google.com/notebooks/data_table.ipynb>data table notebook</a>'\n",
              "            + ' to learn more about interactive tables.';\n",
              "          element.innerHTML = '';\n",
              "          dataTable['output_type'] = 'display_data';\n",
              "          await google.colab.output.renderOutput(dataTable, element);\n",
              "          const docLink = document.createElement('div');\n",
              "          docLink.innerHTML = docLinkHtml;\n",
              "          element.appendChild(docLink);\n",
              "        }\n",
              "      </script>\n",
              "    </div>\n",
              "  </div>\n",
              "  "
            ],
            "text/plain": [
              "   Individual splits for MNB\n",
              "0                   0.984211\n",
              "1                   0.992982\n",
              "2                   0.987719\n",
              "3                   0.987719\n",
              "4                   0.991228\n",
              "5                   0.989455\n",
              "6                   0.987698\n",
              "7                   0.992970\n",
              "8                   0.994728\n",
              "9                   0.992970"
            ]
          },
          "metadata": {}
        }
      ]
    },
    {
      "cell_type": "markdown",
      "source": [
        "<a name=\"NB-Eval\"> </a>\n",
        "# **Model Evalution**\n",
        "1. Null accuracy\n",
        "2. Extended Classification Report\n",
        "3. Confusion Matrix"
      ],
      "metadata": {
        "id": "5I_Wmuz5oLpB"
      }
    },
    {
      "cell_type": "markdown",
      "source": [
        "<a name=\"NullAccuracy\"> </a>\n",
        "Calculate **null accuracy** (*the accuracy that could be achieved by always predicting the most frequent class*) and compare it with the Multinomial Naive-Bayes model's accuracy.\n",
        "\n",
        "  *A model that predicts everything as ham on a dataset with 9,900 ham and 100 spam emails will have: (9,900 / 10,000) = **0.99 accuracy**!*"
      ],
      "metadata": {
        "id": "8UDP3q3boXI7"
      }
    },
    {
      "cell_type": "code",
      "source": [
        "# check class distribution in test set\n",
        "print(y.value_counts())\n",
        "# check null accuracy score\n",
        "null_accuracy = round(4327/(1368+4327), 4)\n",
        "print('Null accuracy score:', null_accuracy)"
      ],
      "metadata": {
        "colab": {
          "base_uri": "https://localhost:8080/"
        },
        "id": "HfO3KNvN3xbx",
        "outputId": "1196eb57-1baa-4ca1-b68e-d51205540ae2"
      },
      "execution_count": 16,
      "outputs": [
        {
          "output_type": "stream",
          "name": "stdout",
          "text": [
            "0    4327\n",
            "1    1368\n",
            "Name: spam, dtype: int64\n",
            "Null accuracy score: 0.7598\n"
          ]
        }
      ]
    },
    {
      "cell_type": "markdown",
      "source": [
        "Average CV testing accuracy with Multinomial Naive-Bayes: **0.9902** > Null accuracy: **0.7598**."
      ],
      "metadata": {
        "id": "iDkyb2xPo_NJ"
      }
    },
    {
      "cell_type": "markdown",
      "source": [
        "<a name=\"ClassificationReport\"> </a>\n",
        "Generate **extended Classification report** (*an overview of different scores*):\n",
        "\n",
        "  * **Accuracy**: $\\frac{CorrectlyPredicted}{Total}$ \n",
        "    * the simplest score\n",
        "    * can be misleading as a sole metric\n",
        "  \n",
        "  * **Precision**: $\\frac{TruePositives}{All Positives (TP+FP)}$ \n",
        "    * the ability of the classifier not to label as positive a sample that is negative\n",
        "    * how precise is with its positive predictions.\n",
        " \n",
        "\n",
        "  * **Recall/Sensitivity**: $\\frac{TruePositive}{TruePositive + FalseNegative}$\n",
        "    * the ability of the classifier to find all the positive samples  \n",
        "    * how many of the positive cases can recall\n",
        "  \n",
        "  * **F1-score**: $2x\\frac{PrecisionxRecall}{Precision+Recall}$\n",
        "    * a weighted harmonic mean of the precision and recall \n",
        "  \n",
        "  * **Support**:\n",
        "    * the number of occurrences of each class in y_true\n",
        "\n",
        "  * **Macro-average**: \n",
        "    * unweighted mean per label\n",
        "  * **Weighted-average**: \n",
        "    * averaging the support-weighted mean per label"
      ],
      "metadata": {
        "id": "FjY_f1BauAqS"
      }
    },
    {
      "cell_type": "markdown",
      "source": [
        "Define desired metrics and cross validate:"
      ],
      "metadata": {
        "id": "6kLBgvx2RO5b"
      }
    },
    {
      "cell_type": "code",
      "source": [
        "# choose how many train/test sets we want by \"n_splits\"\n",
        "kf = StratifiedKFold(n_splits=10, shuffle=True)\n",
        "\n",
        "scoring = ['accuracy', 'precision', 'recall', 'f1', 'neg_brier_score', 'neg_log_loss', 'roc_auc']\n",
        "\n",
        "scores_mnb = cross_validate(model_mnb, X, y, cv=kf, scoring=scoring, return_train_score=True)"
      ],
      "metadata": {
        "id": "WoadbQ2HNUfd"
      },
      "execution_count": 120,
      "outputs": []
    },
    {
      "cell_type": "markdown",
      "source": [
        "Extract the desired metrics, calculate mean scores and display them in a table."
      ],
      "metadata": {
        "id": "ql5yqOZORYj-"
      }
    },
    {
      "cell_type": "code",
      "source": [
        "accuracy_train = []\n",
        "accuracy_splits = []\n",
        "precision_splits = []\n",
        "recall_splits = []\n",
        "f1_splits = []\n",
        "brier_splits = []\n",
        "logloss_splits = []\n",
        "rocauc_splits = []\n",
        "for key, value in scores_mnb.items():\n",
        "  if key == 'train_accuracy':\n",
        "    accuracy_train.append(value)\n",
        "  if key == 'test_accuracy':\n",
        "    accuracy_splits.append(value)\n",
        "  if key == 'test_precision':\n",
        "    precision_splits.append(value)\n",
        "  if key == 'test_recall':\n",
        "    recall_splits.append(value)\n",
        "  if key == 'test_f1':\n",
        "    f1_splits.append(value)\n",
        "  if key == 'test_neg_brier_score':\n",
        "    brier_splits.append(value)\n",
        "  if key == 'test_neg_log_loss':\n",
        "    logloss_splits.append(value)\n",
        "  if key == 'test_roc_auc':\n",
        "    rocauc_splits.append(value)\n",
        "\n",
        "\n",
        "# set column names\n",
        "split_cols_names = ['split 1', 'split 2', 'split 3', 'split 4', 'split 5',\n",
        "                    'split 6', 'split 7', 'split 8', 'split 9', 'split 10']\n",
        "\n",
        "# convert lists of scores to dataframe\n",
        "accuracy_train = pd.DataFrame(accuracy_train, columns=split_cols_names )\n",
        "accuracy_splits = pd.DataFrame(accuracy_splits, columns=split_cols_names)\n",
        "precision_splits = pd.DataFrame(precision_splits, columns=split_cols_names)\n",
        "recall_splits = pd.DataFrame(recall_splits, columns=split_cols_names)\n",
        "f1_splits = pd.DataFrame(f1_splits, columns=split_cols_names)\n",
        "brier_splits = pd.DataFrame(brier_splits, columns=split_cols_names)\n",
        "logloss_splits = pd.DataFrame(logloss_splits, columns=split_cols_names)\n",
        "rocauc_splits = pd.DataFrame(rocauc_splits, columns=split_cols_names)\n",
        "\n",
        "# rename rows\n",
        "accuracy_train.rename(index = {0: \"Accuracy Train\"}, inplace=True)\n",
        "accuracy_splits.rename(index = {0: \"Accuracy\"}, inplace=True)\n",
        "precision_splits.rename(index = {0: \"Precision\"}, inplace = True)\n",
        "recall_splits.rename(index = {0: \"Recall\"}, inplace = True)\n",
        "f1_splits.rename(index = {0: \"F1\"}, inplace = True)\n",
        "brier_splits.rename(index = {0: \"Brier\"}, inplace = True)\n",
        "logloss_splits.rename(index = {0: \"LogLoss\"}, inplace = True)\n",
        "rocauc_splits.rename(index = {0: \"RocAuc\"}, inplace = True)\n",
        "\n",
        "\n",
        "# merge all dataframes into a single one\n",
        "metrics_mnb = pd.concat([accuracy_train, accuracy_splits, precision_splits, recall_splits, f1_splits,\n",
        "                     brier_splits, logloss_splits, rocauc_splits])\n",
        "\n",
        "# calculate mean scores for each row\n",
        "mean_scores = metrics_mnb.mean(axis=1)\n",
        "\n",
        "# append column to the dataframe\n",
        "metrics_mnb['mean'] = round(mean_scores, 4)\n",
        "\n",
        "# display dataframe as a table\n",
        "display(metrics_mnb)"
      ],
      "metadata": {
        "colab": {
          "base_uri": "https://localhost:8080/",
          "height": 300
        },
        "id": "5TGIQkveNrtV",
        "outputId": "aa24d3da-c60e-4c91-b09d-2fbf41ee3bac"
      },
      "execution_count": 139,
      "outputs": [
        {
          "output_type": "display_data",
          "data": {
            "text/html": [
              "\n",
              "  <div id=\"df-3b4ba61f-acc1-4af4-92d0-a7ca1413d5b1\">\n",
              "    <div class=\"colab-df-container\">\n",
              "      <div>\n",
              "<style scoped>\n",
              "    .dataframe tbody tr th:only-of-type {\n",
              "        vertical-align: middle;\n",
              "    }\n",
              "\n",
              "    .dataframe tbody tr th {\n",
              "        vertical-align: top;\n",
              "    }\n",
              "\n",
              "    .dataframe thead th {\n",
              "        text-align: right;\n",
              "    }\n",
              "</style>\n",
              "<table border=\"1\" class=\"dataframe\">\n",
              "  <thead>\n",
              "    <tr style=\"text-align: right;\">\n",
              "      <th></th>\n",
              "      <th>split 1</th>\n",
              "      <th>split 2</th>\n",
              "      <th>split 3</th>\n",
              "      <th>split 4</th>\n",
              "      <th>split 5</th>\n",
              "      <th>split 6</th>\n",
              "      <th>split 7</th>\n",
              "      <th>split 8</th>\n",
              "      <th>split 9</th>\n",
              "      <th>split 10</th>\n",
              "      <th>mean</th>\n",
              "    </tr>\n",
              "  </thead>\n",
              "  <tbody>\n",
              "    <tr>\n",
              "      <th>Accuracy Train</th>\n",
              "      <td>0.996488</td>\n",
              "      <td>0.996683</td>\n",
              "      <td>0.997073</td>\n",
              "      <td>0.997854</td>\n",
              "      <td>0.997073</td>\n",
              "      <td>0.997269</td>\n",
              "      <td>0.996684</td>\n",
              "      <td>0.997074</td>\n",
              "      <td>0.996488</td>\n",
              "      <td>0.997659</td>\n",
              "      <td>0.9970</td>\n",
              "    </tr>\n",
              "    <tr>\n",
              "      <th>Accuracy</th>\n",
              "      <td>0.994737</td>\n",
              "      <td>0.984211</td>\n",
              "      <td>0.994737</td>\n",
              "      <td>0.984211</td>\n",
              "      <td>0.992982</td>\n",
              "      <td>0.984183</td>\n",
              "      <td>0.992970</td>\n",
              "      <td>0.994728</td>\n",
              "      <td>0.994728</td>\n",
              "      <td>0.985940</td>\n",
              "      <td>0.9903</td>\n",
              "    </tr>\n",
              "    <tr>\n",
              "      <th>Precision</th>\n",
              "      <td>0.978571</td>\n",
              "      <td>0.944444</td>\n",
              "      <td>0.978571</td>\n",
              "      <td>0.944444</td>\n",
              "      <td>0.978417</td>\n",
              "      <td>0.963768</td>\n",
              "      <td>0.978417</td>\n",
              "      <td>0.985507</td>\n",
              "      <td>0.985401</td>\n",
              "      <td>0.944444</td>\n",
              "      <td>0.9682</td>\n",
              "    </tr>\n",
              "    <tr>\n",
              "      <th>Recall</th>\n",
              "      <td>1.000000</td>\n",
              "      <td>0.992701</td>\n",
              "      <td>1.000000</td>\n",
              "      <td>0.992701</td>\n",
              "      <td>0.992701</td>\n",
              "      <td>0.970803</td>\n",
              "      <td>0.992701</td>\n",
              "      <td>0.992701</td>\n",
              "      <td>0.992647</td>\n",
              "      <td>1.000000</td>\n",
              "      <td>0.9927</td>\n",
              "    </tr>\n",
              "    <tr>\n",
              "      <th>F1</th>\n",
              "      <td>0.989170</td>\n",
              "      <td>0.967972</td>\n",
              "      <td>0.989170</td>\n",
              "      <td>0.967972</td>\n",
              "      <td>0.985507</td>\n",
              "      <td>0.967273</td>\n",
              "      <td>0.985507</td>\n",
              "      <td>0.989091</td>\n",
              "      <td>0.989011</td>\n",
              "      <td>0.971429</td>\n",
              "      <td>0.9802</td>\n",
              "    </tr>\n",
              "    <tr>\n",
              "      <th>Brier</th>\n",
              "      <td>-0.004496</td>\n",
              "      <td>-0.013487</td>\n",
              "      <td>-0.005303</td>\n",
              "      <td>-0.014811</td>\n",
              "      <td>-0.007010</td>\n",
              "      <td>-0.012131</td>\n",
              "      <td>-0.007840</td>\n",
              "      <td>-0.005628</td>\n",
              "      <td>-0.005326</td>\n",
              "      <td>-0.012991</td>\n",
              "      <td>-0.0089</td>\n",
              "    </tr>\n",
              "    <tr>\n",
              "      <th>LogLoss</th>\n",
              "      <td>-0.016956</td>\n",
              "      <td>-0.336931</td>\n",
              "      <td>-0.121828</td>\n",
              "      <td>-0.231035</td>\n",
              "      <td>-0.152502</td>\n",
              "      <td>-0.121068</td>\n",
              "      <td>-0.121126</td>\n",
              "      <td>-0.108661</td>\n",
              "      <td>-0.096960</td>\n",
              "      <td>-0.211296</td>\n",
              "      <td>-0.1518</td>\n",
              "    </tr>\n",
              "    <tr>\n",
              "      <th>RocAuc</th>\n",
              "      <td>1.000000</td>\n",
              "      <td>0.993577</td>\n",
              "      <td>0.998112</td>\n",
              "      <td>0.995634</td>\n",
              "      <td>0.996730</td>\n",
              "      <td>0.998065</td>\n",
              "      <td>0.998099</td>\n",
              "      <td>0.998006</td>\n",
              "      <td>0.998361</td>\n",
              "      <td>0.995721</td>\n",
              "      <td>0.9972</td>\n",
              "    </tr>\n",
              "  </tbody>\n",
              "</table>\n",
              "</div>\n",
              "      <button class=\"colab-df-convert\" onclick=\"convertToInteractive('df-3b4ba61f-acc1-4af4-92d0-a7ca1413d5b1')\"\n",
              "              title=\"Convert this dataframe to an interactive table.\"\n",
              "              style=\"display:none;\">\n",
              "        \n",
              "  <svg xmlns=\"http://www.w3.org/2000/svg\" height=\"24px\"viewBox=\"0 0 24 24\"\n",
              "       width=\"24px\">\n",
              "    <path d=\"M0 0h24v24H0V0z\" fill=\"none\"/>\n",
              "    <path d=\"M18.56 5.44l.94 2.06.94-2.06 2.06-.94-2.06-.94-.94-2.06-.94 2.06-2.06.94zm-11 1L8.5 8.5l.94-2.06 2.06-.94-2.06-.94L8.5 2.5l-.94 2.06-2.06.94zm10 10l.94 2.06.94-2.06 2.06-.94-2.06-.94-.94-2.06-.94 2.06-2.06.94z\"/><path d=\"M17.41 7.96l-1.37-1.37c-.4-.4-.92-.59-1.43-.59-.52 0-1.04.2-1.43.59L10.3 9.45l-7.72 7.72c-.78.78-.78 2.05 0 2.83L4 21.41c.39.39.9.59 1.41.59.51 0 1.02-.2 1.41-.59l7.78-7.78 2.81-2.81c.8-.78.8-2.07 0-2.86zM5.41 20L4 18.59l7.72-7.72 1.47 1.35L5.41 20z\"/>\n",
              "  </svg>\n",
              "      </button>\n",
              "      \n",
              "  <style>\n",
              "    .colab-df-container {\n",
              "      display:flex;\n",
              "      flex-wrap:wrap;\n",
              "      gap: 12px;\n",
              "    }\n",
              "\n",
              "    .colab-df-convert {\n",
              "      background-color: #E8F0FE;\n",
              "      border: none;\n",
              "      border-radius: 50%;\n",
              "      cursor: pointer;\n",
              "      display: none;\n",
              "      fill: #1967D2;\n",
              "      height: 32px;\n",
              "      padding: 0 0 0 0;\n",
              "      width: 32px;\n",
              "    }\n",
              "\n",
              "    .colab-df-convert:hover {\n",
              "      background-color: #E2EBFA;\n",
              "      box-shadow: 0px 1px 2px rgba(60, 64, 67, 0.3), 0px 1px 3px 1px rgba(60, 64, 67, 0.15);\n",
              "      fill: #174EA6;\n",
              "    }\n",
              "\n",
              "    [theme=dark] .colab-df-convert {\n",
              "      background-color: #3B4455;\n",
              "      fill: #D2E3FC;\n",
              "    }\n",
              "\n",
              "    [theme=dark] .colab-df-convert:hover {\n",
              "      background-color: #434B5C;\n",
              "      box-shadow: 0px 1px 3px 1px rgba(0, 0, 0, 0.15);\n",
              "      filter: drop-shadow(0px 1px 2px rgba(0, 0, 0, 0.3));\n",
              "      fill: #FFFFFF;\n",
              "    }\n",
              "  </style>\n",
              "\n",
              "      <script>\n",
              "        const buttonEl =\n",
              "          document.querySelector('#df-3b4ba61f-acc1-4af4-92d0-a7ca1413d5b1 button.colab-df-convert');\n",
              "        buttonEl.style.display =\n",
              "          google.colab.kernel.accessAllowed ? 'block' : 'none';\n",
              "\n",
              "        async function convertToInteractive(key) {\n",
              "          const element = document.querySelector('#df-3b4ba61f-acc1-4af4-92d0-a7ca1413d5b1');\n",
              "          const dataTable =\n",
              "            await google.colab.kernel.invokeFunction('convertToInteractive',\n",
              "                                                     [key], {});\n",
              "          if (!dataTable) return;\n",
              "\n",
              "          const docLinkHtml = 'Like what you see? Visit the ' +\n",
              "            '<a target=\"_blank\" href=https://colab.research.google.com/notebooks/data_table.ipynb>data table notebook</a>'\n",
              "            + ' to learn more about interactive tables.';\n",
              "          element.innerHTML = '';\n",
              "          dataTable['output_type'] = 'display_data';\n",
              "          await google.colab.output.renderOutput(dataTable, element);\n",
              "          const docLink = document.createElement('div');\n",
              "          docLink.innerHTML = docLinkHtml;\n",
              "          element.appendChild(docLink);\n",
              "        }\n",
              "      </script>\n",
              "    </div>\n",
              "  </div>\n",
              "  "
            ],
            "text/plain": [
              "                 split 1   split 2   split 3  ...   split 9  split 10    mean\n",
              "Accuracy Train  0.996488  0.996683  0.997073  ...  0.996488  0.997659  0.9970\n",
              "Accuracy        0.994737  0.984211  0.994737  ...  0.994728  0.985940  0.9903\n",
              "Precision       0.978571  0.944444  0.978571  ...  0.985401  0.944444  0.9682\n",
              "Recall          1.000000  0.992701  1.000000  ...  0.992647  1.000000  0.9927\n",
              "F1              0.989170  0.967972  0.989170  ...  0.989011  0.971429  0.9802\n",
              "Brier          -0.004496 -0.013487 -0.005303  ... -0.005326 -0.012991 -0.0089\n",
              "LogLoss        -0.016956 -0.336931 -0.121828  ... -0.096960 -0.211296 -0.1518\n",
              "RocAuc          1.000000  0.993577  0.998112  ...  0.998361  0.995721  0.9972\n",
              "\n",
              "[8 rows x 11 columns]"
            ]
          },
          "metadata": {}
        }
      ]
    },
    {
      "cell_type": "markdown",
      "source": [
        "<a name=\"ConfusionMatrix\"> </a>\n",
        "4. Generate & visualize the **Confusion Matrix**: describes how a model performs on a dataset."
      ],
      "metadata": {
        "id": "12AjcHZl_eBg"
      }
    },
    {
      "cell_type": "code",
      "source": [
        "y_pred = cross_val_predict(model_mnb, X, y, cv=kf)\n",
        "cm = confusion_matrix(y, y_pred)\n",
        "# visualize confusion matrix with seaborn heatmap\n",
        "cm_matrix = pd.DataFrame(data=cm, columns=['Actual Positive:1',\n",
        "                                           'Actual Negative:0'],\n",
        "                        index=['Predict Positive:1', 'Predict Negative:0'])\n",
        "fig, ax = plt.subplots(figsize=(7,7))  \n",
        "sns.heatmap(cm_matrix, annot=True, fmt='d', cmap='YlGnBu')"
      ],
      "metadata": {
        "colab": {
          "base_uri": "https://localhost:8080/",
          "height": 446
        },
        "id": "6Vahgvup5D90",
        "outputId": "3fd67d0b-4971-48ca-e625-1faaae8e68cc"
      },
      "execution_count": 123,
      "outputs": [
        {
          "output_type": "execute_result",
          "data": {
            "text/plain": [
              "<matplotlib.axes._subplots.AxesSubplot at 0x7f283e323390>"
            ]
          },
          "metadata": {},
          "execution_count": 123
        },
        {
          "output_type": "display_data",
          "data": {
            "image/png": "[encoded data removed]",
            "text/plain": [
              "<Figure size 504x504 with 2 Axes>"
            ]
          },
          "metadata": {
            "needs_background": "light"
          }
        }
      ]
    },
    {
      "cell_type": "markdown",
      "source": [
        "* **Missclassifications**:\n",
        "  * ***Only 9 spam email as ham***!\n",
        "  * 47 ham emails as spam."
      ],
      "metadata": {
        "id": "Oy6c-g1MsOtq"
      }
    },
    {
      "cell_type": "markdown",
      "source": [
        "<a name=\"SVM\"> </a>\n",
        "# **Support Vector Machine**\n",
        "\n",
        "* K-Fold Cross Validation\n",
        "* Hyperparameter Optimization (GridSearchCV)\n",
        "* Model Evaluation"
      ],
      "metadata": {
        "id": "izVKSJvizazO"
      }
    },
    {
      "cell_type": "markdown",
      "source": [
        "Why Support Vector Machine?\n",
        "  1. Classification task with categorical outcome.\n",
        "\n",
        "Why not SVM?\n",
        "  1. Not recommended for datasets with low feature-to-row ratio!  \n",
        "  \n",
        "  $\\frac{37228}{5695}= 6.62$"
      ],
      "metadata": {
        "id": "mfZEEKnW0PiT"
      }
    },
    {
      "cell_type": "markdown",
      "source": [
        "<a name='SVCkfold'> </a>\n",
        "# **K-Fold Cross Validation**\n",
        "Perform a **KFold Cross-Validation** on the **default SVC model**."
      ],
      "metadata": {
        "id": "xTX5C5m-FKGr"
      }
    },
    {
      "cell_type": "code",
      "source": [
        "# choose how many train/test sets we want by \"n_splits\"\n",
        "kfold = StratifiedKFold(n_splits=10, shuffle=True)\n",
        "\n",
        "# instantiate SVM model with default parameters\n",
        "svc = SVC()\n",
        "\n",
        "# calculate the accuracy score of each of the 5 train/test sets\n",
        "svc_scores = cross_validate(svc, X, y, cv=kfold, scoring='accuracy', return_train_score=True)"
      ],
      "metadata": {
        "id": "OEULbcqd9zpn"
      },
      "execution_count": 124,
      "outputs": []
    },
    {
      "cell_type": "markdown",
      "source": [
        "Extract train and test scores for each split, calculate mean and display them as a table."
      ],
      "metadata": {
        "id": "XvLHXQCU8nfn"
      }
    },
    {
      "cell_type": "code",
      "source": [
        "train_splits = []\n",
        "test_splits = []\n",
        "for key, value in svc_scores.items():\n",
        "  if key == 'train_score':\n",
        "    train_splits.append(value)\n",
        "  if key == 'test_score':\n",
        "    test_splits.append(value)\n",
        "\n",
        "# set column names\n",
        "split_cols_names = ['split 1', 'split 2', 'split 3', 'split 4', 'split 5',\n",
        "                    'split 6', 'split 7', 'split 8', 'split 9', 'split 10']\n",
        "\n",
        "# convert lists of scores to dataframe\n",
        "train_scores = pd.DataFrame(train_splits, columns=split_cols_names)\n",
        "test_scores = pd.DataFrame(test_splits, columns=split_cols_names)\n",
        "\n",
        "# rename rows\n",
        "train_scores.rename(index = {0: \"Accuracy (Train)\"}, inplace = True)\n",
        "test_scores.rename(index = {0: \"Accuracy (Test)\"}, inplace = True)\n",
        "\n",
        "# merge both dataframes into a single one\n",
        "data = train_scores.append(test_scores)\n",
        "\n",
        "# calculate mean scores\n",
        "mean_scores = data.mean(axis=1)\n",
        "\n",
        "# append column to the dataframe\n",
        "data['mean'] = round(mean_scores, 4)\n",
        "# display dataframe as a tables\n",
        "display(data)"
      ],
      "metadata": {
        "id": "sNuE-VBj79Z4",
        "outputId": "796e57f8-0a2e-4c51-dde2-eb7cb3fe87e0",
        "colab": {
          "base_uri": "https://localhost:8080/",
          "height": 112
        }
      },
      "execution_count": 126,
      "outputs": [
        {
          "output_type": "display_data",
          "data": {
            "text/html": [
              "\n",
              "  <div id=\"df-940c4633-7f5f-4a64-bad3-8f928804e3cc\">\n",
              "    <div class=\"colab-df-container\">\n",
              "      <div>\n",
              "<style scoped>\n",
              "    .dataframe tbody tr th:only-of-type {\n",
              "        vertical-align: middle;\n",
              "    }\n",
              "\n",
              "    .dataframe tbody tr th {\n",
              "        vertical-align: top;\n",
              "    }\n",
              "\n",
              "    .dataframe thead th {\n",
              "        text-align: right;\n",
              "    }\n",
              "</style>\n",
              "<table border=\"1\" class=\"dataframe\">\n",
              "  <thead>\n",
              "    <tr style=\"text-align: right;\">\n",
              "      <th></th>\n",
              "      <th>split 1</th>\n",
              "      <th>split 2</th>\n",
              "      <th>split 3</th>\n",
              "      <th>split 4</th>\n",
              "      <th>split 5</th>\n",
              "      <th>split 6</th>\n",
              "      <th>split 7</th>\n",
              "      <th>split 8</th>\n",
              "      <th>split 9</th>\n",
              "      <th>split 10</th>\n",
              "      <th>mean</th>\n",
              "    </tr>\n",
              "  </thead>\n",
              "  <tbody>\n",
              "    <tr>\n",
              "      <th>Accuracy (Train)</th>\n",
              "      <td>0.992390</td>\n",
              "      <td>0.990244</td>\n",
              "      <td>0.990439</td>\n",
              "      <td>0.989854</td>\n",
              "      <td>0.992390</td>\n",
              "      <td>0.992002</td>\n",
              "      <td>0.989075</td>\n",
              "      <td>0.990636</td>\n",
              "      <td>0.989465</td>\n",
              "      <td>0.989661</td>\n",
              "      <td>0.9906</td>\n",
              "    </tr>\n",
              "    <tr>\n",
              "      <th>Accuracy (Test)</th>\n",
              "      <td>0.982456</td>\n",
              "      <td>0.977193</td>\n",
              "      <td>0.984211</td>\n",
              "      <td>0.984211</td>\n",
              "      <td>0.978947</td>\n",
              "      <td>0.971880</td>\n",
              "      <td>0.984183</td>\n",
              "      <td>0.982425</td>\n",
              "      <td>0.964851</td>\n",
              "      <td>0.970123</td>\n",
              "      <td>0.9780</td>\n",
              "    </tr>\n",
              "  </tbody>\n",
              "</table>\n",
              "</div>\n",
              "      <button class=\"colab-df-convert\" onclick=\"convertToInteractive('df-940c4633-7f5f-4a64-bad3-8f928804e3cc')\"\n",
              "              title=\"Convert this dataframe to an interactive table.\"\n",
              "              style=\"display:none;\">\n",
              "        \n",
              "  <svg xmlns=\"http://www.w3.org/2000/svg\" height=\"24px\"viewBox=\"0 0 24 24\"\n",
              "       width=\"24px\">\n",
              "    <path d=\"M0 0h24v24H0V0z\" fill=\"none\"/>\n",
              "    <path d=\"M18.56 5.44l.94 2.06.94-2.06 2.06-.94-2.06-.94-.94-2.06-.94 2.06-2.06.94zm-11 1L8.5 8.5l.94-2.06 2.06-.94-2.06-.94L8.5 2.5l-.94 2.06-2.06.94zm10 10l.94 2.06.94-2.06 2.06-.94-2.06-.94-.94-2.06-.94 2.06-2.06.94z\"/><path d=\"M17.41 7.96l-1.37-1.37c-.4-.4-.92-.59-1.43-.59-.52 0-1.04.2-1.43.59L10.3 9.45l-7.72 7.72c-.78.78-.78 2.05 0 2.83L4 21.41c.39.39.9.59 1.41.59.51 0 1.02-.2 1.41-.59l7.78-7.78 2.81-2.81c.8-.78.8-2.07 0-2.86zM5.41 20L4 18.59l7.72-7.72 1.47 1.35L5.41 20z\"/>\n",
              "  </svg>\n",
              "      </button>\n",
              "      \n",
              "  <style>\n",
              "    .colab-df-container {\n",
              "      display:flex;\n",
              "      flex-wrap:wrap;\n",
              "      gap: 12px;\n",
              "    }\n",
              "\n",
              "    .colab-df-convert {\n",
              "      background-color: #E8F0FE;\n",
              "      border: none;\n",
              "      border-radius: 50%;\n",
              "      cursor: pointer;\n",
              "      display: none;\n",
              "      fill: #1967D2;\n",
              "      height: 32px;\n",
              "      padding: 0 0 0 0;\n",
              "      width: 32px;\n",
              "    }\n",
              "\n",
              "    .colab-df-convert:hover {\n",
              "      background-color: #E2EBFA;\n",
              "      box-shadow: 0px 1px 2px rgba(60, 64, 67, 0.3), 0px 1px 3px 1px rgba(60, 64, 67, 0.15);\n",
              "      fill: #174EA6;\n",
              "    }\n",
              "\n",
              "    [theme=dark] .colab-df-convert {\n",
              "      background-color: #3B4455;\n",
              "      fill: #D2E3FC;\n",
              "    }\n",
              "\n",
              "    [theme=dark] .colab-df-convert:hover {\n",
              "      background-color: #434B5C;\n",
              "      box-shadow: 0px 1px 3px 1px rgba(0, 0, 0, 0.15);\n",
              "      filter: drop-shadow(0px 1px 2px rgba(0, 0, 0, 0.3));\n",
              "      fill: #FFFFFF;\n",
              "    }\n",
              "  </style>\n",
              "\n",
              "      <script>\n",
              "        const buttonEl =\n",
              "          document.querySelector('#df-940c4633-7f5f-4a64-bad3-8f928804e3cc button.colab-df-convert');\n",
              "        buttonEl.style.display =\n",
              "          google.colab.kernel.accessAllowed ? 'block' : 'none';\n",
              "\n",
              "        async function convertToInteractive(key) {\n",
              "          const element = document.querySelector('#df-940c4633-7f5f-4a64-bad3-8f928804e3cc');\n",
              "          const dataTable =\n",
              "            await google.colab.kernel.invokeFunction('convertToInteractive',\n",
              "                                                     [key], {});\n",
              "          if (!dataTable) return;\n",
              "\n",
              "          const docLinkHtml = 'Like what you see? Visit the ' +\n",
              "            '<a target=\"_blank\" href=https://colab.research.google.com/notebooks/data_table.ipynb>data table notebook</a>'\n",
              "            + ' to learn more about interactive tables.';\n",
              "          element.innerHTML = '';\n",
              "          dataTable['output_type'] = 'display_data';\n",
              "          await google.colab.output.renderOutput(dataTable, element);\n",
              "          const docLink = document.createElement('div');\n",
              "          docLink.innerHTML = docLinkHtml;\n",
              "          element.appendChild(docLink);\n",
              "        }\n",
              "      </script>\n",
              "    </div>\n",
              "  </div>\n",
              "  "
            ],
            "text/plain": [
              "                   split 1   split 2   split 3  ...   split 9  split 10    mean\n",
              "Accuracy (Train)  0.992390  0.990244  0.990439  ...  0.989465  0.989661  0.9906\n",
              "Accuracy (Test)   0.982456  0.977193  0.984211  ...  0.964851  0.970123  0.9780\n",
              "\n",
              "[2 rows x 11 columns]"
            ]
          },
          "metadata": {}
        }
      ]
    },
    {
      "cell_type": "markdown",
      "source": [
        "<a name=\"GridSearchCV\"></a>\n",
        "# **Hyperparameter Optimization Using GridSearchCV**\n",
        "\n",
        "GridSearchCV has four parameters:\n",
        "  1. The model\n",
        "  2. Param_grid: a dictionary of the parameters names and all the possible values\n",
        "  3. What metric to use (default is accuracy)\n",
        "  4. How many folds for k-fold cross validation\n",
        "\n",
        "More info about GridSearch [here](https://scikit-learn.org/stable/modules/generated/sklearn.model_selection.GridSearchCV.html).\n",
        "\n",
        "**Support Vector Machine Hyperparameters**:\n",
        "  1. **C**: margin width, lower value = soft margin / high value = hard margin\n",
        "  2. **kernels**: more info about kernel types [here](https://scikit-learn.org/stable/modules/svm.html#svm-kernels).\n",
        "  3. **gamma**: controls the influence of new Xs on the decision boundary, lower value = less/ higher value = more.\n",
        "\n",
        "More info about SVM parameters [here](https://scikit-learn.org/stable/modules/generated/sklearn.svm.SVC.html)."
      ],
      "metadata": {
        "id": "eSyjt1pam8Z-"
      }
    },
    {
      "cell_type": "code",
      "source": [
        "# instantiate classifier with default parameters (kernel='rbf', C=1.0, gamma='scale')\n",
        "svc = SVC()\n",
        "\n",
        "# declare parameters for hyperparameter tuning\n",
        "params = [\n",
        "          {'C': [0.1, 1, 10], 'kernel':['linear']},\n",
        "          {'C': [0.1, 1, 10], 'kernel': ['poly'], 'degree': [2,3], \n",
        "           'gamma': [0.05, 0.09]}\n",
        "          ]\n",
        "\n",
        "# create a dictionary for multiple scoring\n",
        "scoring = {\n",
        "            \"accuracy\": make_scorer(accuracy_score),\n",
        "            \"f1-score\": make_scorer(f1_score)\n",
        "           }\n",
        "\n",
        "# create the grid search object\n",
        "gs = GridSearchCV(svc, params, scoring=scoring, cv=5, return_train_score=True, refit='accuracy', n_jobs=1, verbose=3)\n",
        "\n",
        "# fit the gs object\n",
        "gs.fit(X_train, y_train)"
      ],
      "metadata": {
        "id": "jtAyplEMvAX4",
        "outputId": "5b29a6b6-ccce-49f0-8a3a-74c5d2373f96",
        "colab": {
          "base_uri": "https://localhost:8080/"
        }
      },
      "execution_count": 127,
      "outputs": [
        {
          "output_type": "stream",
          "name": "stdout",
          "text": [
            "Fitting 5 folds for each of 15 candidates, totalling 75 fits\n",
            "[CV 1/5] END C=0.1, kernel=linear; accuracy: (train=1.000, test=0.985) f1-score: (train=1.000, test=0.968) total time=   2.0s\n",
            "[CV 2/5] END C=0.1, kernel=linear; accuracy: (train=1.000, test=0.978) f1-score: (train=1.000, test=0.954) total time=   2.0s\n",
            "[CV 3/5] END C=0.1, kernel=linear; accuracy: (train=1.000, test=0.985) f1-score: (train=1.000, test=0.968) total time=   2.0s\n",
            "[CV 4/5] END C=0.1, kernel=linear; accuracy: (train=1.000, test=0.980) f1-score: (train=1.000, test=0.959) total time=   2.0s\n",
            "[CV 5/5] END C=0.1, kernel=linear; accuracy: (train=1.000, test=0.990) f1-score: (train=1.000, test=0.980) total time=   2.2s\n",
            "[CV 1/5] END C=1, kernel=linear; accuracy: (train=1.000, test=0.981) f1-score: (train=1.000, test=0.961) total time=   2.1s\n",
            "[CV 2/5] END C=1, kernel=linear; accuracy: (train=1.000, test=0.977) f1-score: (train=1.000, test=0.952) total time=   2.0s\n",
            "[CV 3/5] END C=1, kernel=linear; accuracy: (train=1.000, test=0.980) f1-score: (train=1.000, test=0.959) total time=   2.0s\n",
            "[CV 4/5] END C=1, kernel=linear; accuracy: (train=1.000, test=0.979) f1-score: (train=1.000, test=0.956) total time=   2.3s\n",
            "[CV 5/5] END C=1, kernel=linear; accuracy: (train=1.000, test=0.987) f1-score: (train=1.000, test=0.973) total time=   3.6s\n",
            "[CV 1/5] END C=10, kernel=linear; accuracy: (train=1.000, test=0.981) f1-score: (train=1.000, test=0.961) total time=   3.4s\n",
            "[CV 2/5] END C=10, kernel=linear; accuracy: (train=1.000, test=0.977) f1-score: (train=1.000, test=0.952) total time=   2.8s\n",
            "[CV 3/5] END C=10, kernel=linear; accuracy: (train=1.000, test=0.980) f1-score: (train=1.000, test=0.959) total time=   2.2s\n",
            "[CV 4/5] END C=10, kernel=linear; accuracy: (train=1.000, test=0.979) f1-score: (train=1.000, test=0.956) total time=   3.2s\n",
            "[CV 5/5] END C=10, kernel=linear; accuracy: (train=1.000, test=0.987) f1-score: (train=1.000, test=0.973) total time=   2.4s\n",
            "[CV 1/5] END C=0.1, degree=2, gamma=0.05, kernel=poly; accuracy: (train=0.968, test=0.932) f1-score: (train=0.929, test=0.843) total time=   5.2s\n",
            "[CV 2/5] END C=0.1, degree=2, gamma=0.05, kernel=poly; accuracy: (train=0.970, test=0.924) f1-score: (train=0.933, test=0.824) total time=   5.2s\n",
            "[CV 3/5] END C=0.1, degree=2, gamma=0.05, kernel=poly; accuracy: (train=0.970, test=0.936) f1-score: (train=0.933, test=0.854) total time=   4.7s\n",
            "[CV 4/5] END C=0.1, degree=2, gamma=0.05, kernel=poly; accuracy: (train=0.970, test=0.923) f1-score: (train=0.933, test=0.824) total time=   6.2s\n",
            "[CV 5/5] END C=0.1, degree=2, gamma=0.05, kernel=poly; accuracy: (train=0.968, test=0.932) f1-score: (train=0.928, test=0.847) total time=   5.6s\n",
            "[CV 1/5] END C=0.1, degree=2, gamma=0.09, kernel=poly; accuracy: (train=0.993, test=0.956) f1-score: (train=0.985, test=0.906) total time=   4.0s\n",
            "[CV 2/5] END C=0.1, degree=2, gamma=0.09, kernel=poly; accuracy: (train=0.995, test=0.936) f1-score: (train=0.990, test=0.856) total time=   4.1s\n",
            "[CV 3/5] END C=0.1, degree=2, gamma=0.09, kernel=poly; accuracy: (train=0.994, test=0.956) f1-score: (train=0.987, test=0.903) total time=   4.0s\n",
            "[CV 4/5] END C=0.1, degree=2, gamma=0.09, kernel=poly; accuracy: (train=0.995, test=0.951) f1-score: (train=0.990, test=0.894) total time=   4.1s\n",
            "[CV 5/5] END C=0.1, degree=2, gamma=0.09, kernel=poly; accuracy: (train=0.996, test=0.960) f1-score: (train=0.991, test=0.916) total time=   4.0s\n",
            "[CV 1/5] END C=0.1, degree=3, gamma=0.05, kernel=poly; accuracy: (train=0.965, test=0.894) f1-score: (train=0.921, test=0.739) total time=   6.1s\n",
            "[CV 2/5] END C=0.1, degree=3, gamma=0.05, kernel=poly; accuracy: (train=0.965, test=0.881) f1-score: (train=0.923, test=0.705) total time=   5.9s\n",
            "[CV 3/5] END C=0.1, degree=3, gamma=0.05, kernel=poly; accuracy: (train=0.966, test=0.899) f1-score: (train=0.925, test=0.749) total time=   6.0s\n",
            "[CV 4/5] END C=0.1, degree=3, gamma=0.05, kernel=poly; accuracy: (train=0.966, test=0.889) f1-score: (train=0.925, test=0.732) total time=   6.9s\n",
            "[CV 5/5] END C=0.1, degree=3, gamma=0.05, kernel=poly; accuracy: (train=0.963, test=0.900) f1-score: (train=0.917, test=0.760) total time=   7.8s\n",
            "[CV 1/5] END C=0.1, degree=3, gamma=0.09, kernel=poly; accuracy: (train=0.990, test=0.914) f1-score: (train=0.980, test=0.801) total time=   7.0s\n",
            "[CV 2/5] END C=0.1, degree=3, gamma=0.09, kernel=poly; accuracy: (train=0.993, test=0.896) f1-score: (train=0.985, test=0.751) total time=   5.7s\n",
            "[CV 3/5] END C=0.1, degree=3, gamma=0.09, kernel=poly; accuracy: (train=0.992, test=0.913) f1-score: (train=0.983, test=0.796) total time=   9.0s\n",
            "[CV 4/5] END C=0.1, degree=3, gamma=0.09, kernel=poly; accuracy: (train=0.994, test=0.901) f1-score: (train=0.987, test=0.773) total time=   6.7s\n",
            "[CV 5/5] END C=0.1, degree=3, gamma=0.09, kernel=poly; accuracy: (train=0.993, test=0.913) f1-score: (train=0.986, test=0.801) total time=   6.7s\n",
            "[CV 1/5] END C=1, degree=2, gamma=0.05, kernel=poly; accuracy: (train=0.997, test=0.967) f1-score: (train=0.993, test=0.931) total time=   5.7s\n",
            "[CV 2/5] END C=1, degree=2, gamma=0.05, kernel=poly; accuracy: (train=0.998, test=0.948) f1-score: (train=0.995, test=0.887) total time=   4.8s\n",
            "[CV 3/5] END C=1, degree=2, gamma=0.05, kernel=poly; accuracy: (train=0.997, test=0.964) f1-score: (train=0.994, test=0.923) total time=   4.9s\n",
            "[CV 4/5] END C=1, degree=2, gamma=0.05, kernel=poly; accuracy: (train=0.998, test=0.964) f1-score: (train=0.995, test=0.924) total time=   4.5s\n",
            "[CV 5/5] END C=1, degree=2, gamma=0.05, kernel=poly; accuracy: (train=0.997, test=0.973) f1-score: (train=0.994, test=0.943) total time=   4.1s\n",
            "[CV 1/5] END C=1, degree=2, gamma=0.09, kernel=poly; accuracy: (train=0.999, test=0.970) f1-score: (train=0.999, test=0.938) total time=   3.7s\n",
            "[CV 2/5] END C=1, degree=2, gamma=0.09, kernel=poly; accuracy: (train=1.000, test=0.944) f1-score: (train=1.000, test=0.877) total time=   3.7s\n",
            "[CV 3/5] END C=1, degree=2, gamma=0.09, kernel=poly; accuracy: (train=1.000, test=0.963) f1-score: (train=0.999, test=0.922) total time=   4.4s\n",
            "[CV 4/5] END C=1, degree=2, gamma=0.09, kernel=poly; accuracy: (train=0.999, test=0.960) f1-score: (train=0.999, test=0.918) total time=   4.8s\n",
            "[CV 5/5] END C=1, degree=2, gamma=0.09, kernel=poly; accuracy: (train=0.999, test=0.970) f1-score: (train=0.999, test=0.939) total time=   3.8s\n",
            "[CV 1/5] END C=1, degree=3, gamma=0.05, kernel=poly; accuracy: (train=0.994, test=0.914) f1-score: (train=0.987, test=0.804) total time=   5.5s\n",
            "[CV 2/5] END C=1, degree=3, gamma=0.05, kernel=poly; accuracy: (train=0.995, test=0.892) f1-score: (train=0.989, test=0.743) total time=   5.7s\n",
            "[CV 3/5] END C=1, degree=3, gamma=0.05, kernel=poly; accuracy: (train=0.994, test=0.908) f1-score: (train=0.987, test=0.786) total time=   5.5s\n",
            "[CV 4/5] END C=1, degree=3, gamma=0.05, kernel=poly; accuracy: (train=0.995, test=0.903) f1-score: (train=0.990, test=0.780) total time=  10.0s\n",
            "[CV 5/5] END C=1, degree=3, gamma=0.05, kernel=poly; accuracy: (train=0.995, test=0.915) f1-score: (train=0.990, test=0.807) total time=  10.5s\n",
            "[CV 1/5] END C=1, degree=3, gamma=0.09, kernel=poly; accuracy: (train=0.998, test=0.916) f1-score: (train=0.995, test=0.812) total time=   6.0s\n",
            "[CV 2/5] END C=1, degree=3, gamma=0.09, kernel=poly; accuracy: (train=0.998, test=0.888) f1-score: (train=0.997, test=0.741) total time=   5.8s\n",
            "[CV 3/5] END C=1, degree=3, gamma=0.09, kernel=poly; accuracy: (train=0.998, test=0.909) f1-score: (train=0.997, test=0.794) total time=   7.1s\n",
            "[CV 4/5] END C=1, degree=3, gamma=0.09, kernel=poly; accuracy: (train=0.999, test=0.906) f1-score: (train=0.997, test=0.791) total time=   6.7s\n",
            "[CV 5/5] END C=1, degree=3, gamma=0.09, kernel=poly; accuracy: (train=0.998, test=0.912) f1-score: (train=0.996, test=0.800) total time=   8.6s\n",
            "[CV 1/5] END C=10, degree=2, gamma=0.05, kernel=poly; accuracy: (train=1.000, test=0.969) f1-score: (train=1.000, test=0.936) total time=   3.7s\n",
            "[CV 2/5] END C=10, degree=2, gamma=0.05, kernel=poly; accuracy: (train=1.000, test=0.941) f1-score: (train=1.000, test=0.871) total time=   3.8s\n",
            "[CV 3/5] END C=10, degree=2, gamma=0.05, kernel=poly; accuracy: (train=1.000, test=0.955) f1-score: (train=1.000, test=0.906) total time=   3.6s\n",
            "[CV 4/5] END C=10, degree=2, gamma=0.05, kernel=poly; accuracy: (train=1.000, test=0.960) f1-score: (train=1.000, test=0.918) total time=   3.9s\n",
            "[CV 5/5] END C=10, degree=2, gamma=0.05, kernel=poly; accuracy: (train=1.000, test=0.970) f1-score: (train=1.000, test=0.939) total time=   4.5s\n",
            "[CV 1/5] END C=10, degree=2, gamma=0.09, kernel=poly; accuracy: (train=1.000, test=0.966) f1-score: (train=1.000, test=0.930) total time=   3.7s\n",
            "[CV 2/5] END C=10, degree=2, gamma=0.09, kernel=poly; accuracy: (train=1.000, test=0.935) f1-score: (train=1.000, test=0.859) total time=   3.8s\n",
            "[CV 3/5] END C=10, degree=2, gamma=0.09, kernel=poly; accuracy: (train=1.000, test=0.951) f1-score: (train=1.000, test=0.897) total time=   3.7s\n",
            "[CV 4/5] END C=10, degree=2, gamma=0.09, kernel=poly; accuracy: (train=1.000, test=0.955) f1-score: (train=1.000, test=0.906) total time=   3.7s\n",
            "[CV 5/5] END C=10, degree=2, gamma=0.09, kernel=poly; accuracy: (train=1.000, test=0.963) f1-score: (train=1.000, test=0.923) total time=   3.7s\n",
            "[CV 1/5] END C=10, degree=3, gamma=0.05, kernel=poly; accuracy: (train=0.999, test=0.918) f1-score: (train=0.998, test=0.817) total time=   5.4s\n",
            "[CV 2/5] END C=10, degree=3, gamma=0.05, kernel=poly; accuracy: (train=0.999, test=0.890) f1-score: (train=0.998, test=0.747) total time=   5.6s\n",
            "[CV 3/5] END C=10, degree=3, gamma=0.05, kernel=poly; accuracy: (train=0.999, test=0.910) f1-score: (train=0.998, test=0.797) total time=   5.4s\n",
            "[CV 4/5] END C=10, degree=3, gamma=0.05, kernel=poly; accuracy: (train=0.999, test=0.908) f1-score: (train=0.998, test=0.798) total time=   5.8s\n",
            "[CV 5/5] END C=10, degree=3, gamma=0.05, kernel=poly; accuracy: (train=0.999, test=0.914) f1-score: (train=0.999, test=0.807) total time=   5.5s\n",
            "[CV 1/5] END C=10, degree=3, gamma=0.09, kernel=poly; accuracy: (train=1.000, test=0.908) f1-score: (train=1.000, test=0.800) total time=   5.7s\n",
            "[CV 2/5] END C=10, degree=3, gamma=0.09, kernel=poly; accuracy: (train=1.000, test=0.883) f1-score: (train=1.000, test=0.737) total time=   5.8s\n",
            "[CV 3/5] END C=10, degree=3, gamma=0.09, kernel=poly; accuracy: (train=1.000, test=0.892) f1-score: (train=1.000, test=0.768) total time=   6.5s\n",
            "[CV 4/5] END C=10, degree=3, gamma=0.09, kernel=poly; accuracy: (train=1.000, test=0.908) f1-score: (train=1.000, test=0.803) total time=   5.8s\n",
            "[CV 5/5] END C=10, degree=3, gamma=0.09, kernel=poly; accuracy: (train=1.000, test=0.899) f1-score: (train=1.000, test=0.780) total time=   6.0s\n"
          ]
        },
        {
          "output_type": "execute_result",
          "data": {
            "text/plain": [
              "GridSearchCV(cv=5, estimator=SVC(), n_jobs=1,\n",
              "             param_grid=[{'C': [0.1, 1, 10], 'kernel': ['linear']},\n",
              "                         {'C': [0.1, 1, 10], 'degree': [2, 3],\n",
              "                          'gamma': [0.05, 0.09], 'kernel': ['poly']}],\n",
              "             refit='accuracy', return_train_score=True,\n",
              "             scoring={'accuracy': make_scorer(accuracy_score),\n",
              "                      'f1-score': make_scorer(f1_score)},\n",
              "             verbose=3)"
            ]
          },
          "metadata": {},
          "execution_count": 127
        }
      ]
    },
    {
      "cell_type": "markdown",
      "source": [
        "<a name=\"GS-Eval\"></a>\n",
        "# **Model Evaluation**\n",
        "\n",
        "Assess the hyperparameter optimization with GridSearch for Support Vector Machine.\n",
        "\n",
        "* The **best_score_** attribute gives the **training mean cross-validation score**.\n",
        "* The **score method** on the test-set gives the **testing mean cross-validation score**, i.e. the **generalization performance of the model**."
      ],
      "metadata": {
        "id": "Su7oCY0JCDmb"
      }
    },
    {
      "cell_type": "code",
      "source": [
        "# print estimator that was chosen by the GridSearch\n",
        "print('\\nEstimator that was chosen by the search:', gs.best_estimator_)\n",
        "\n",
        "# get the model with the mean cross-validation training accuracy\n",
        "print('\\nGS model vs. default model training accucary:', round(gs.best_score_, 4),'vs. 0.9906')\n",
        "\n",
        "# calculate GridSearch CV score\n",
        "print('\\nGS model vs. default model testing accuracy:', round(gs.score(X_test, y_test), 4), 'vs. 0.9780')"
      ],
      "metadata": {
        "id": "_z40oRjVy-6F",
        "outputId": "25db8e0c-ba36-4aca-827c-cb43dedf1ee9",
        "colab": {
          "base_uri": "https://localhost:8080/"
        }
      },
      "execution_count": 134,
      "outputs": [
        {
          "output_type": "stream",
          "name": "stdout",
          "text": [
            "\n",
            "Estimator that was chosen by the search: SVC(C=0.1, kernel='linear')\n",
            "\n",
            "GS model vs. default model training accucary: 0.9835 vs. 0.9906\n",
            "\n",
            "GS model vs. default model testing accuracy: 0.9868 vs. 0.9780\n"
          ]
        }
      ]
    },
    {
      "cell_type": "markdown",
      "source": [
        "Evaluate the model proposed by GridSeachCV on different metrics.\n",
        "\n",
        "Info on GS with multiple scoring metrics [here](https://scikit-learn.org/stable/modules/model_evaluation.html#scoring)."
      ],
      "metadata": {
        "id": "mHBAyHyeKx7J"
      }
    },
    {
      "cell_type": "code",
      "source": [
        "# choose how many train/test sets we want by \"n_splits\"\n",
        "kf = StratifiedKFold(n_splits=10, shuffle=True)\n",
        "\n",
        "scoring = ['accuracy', 'precision', 'recall', 'f1', 'neg_brier_score', 'neg_log_loss', 'roc_auc']\n",
        "\n",
        "model_gs = SVC(kernel='linear', C=0.1, probability=True)\n",
        "\n",
        "scores_gs = cross_validate(model_gs, X, y, cv=kf, scoring=scoring, return_train_score=True)"
      ],
      "metadata": {
        "id": "UOKFMQ_CCIKD"
      },
      "execution_count": 135,
      "outputs": []
    },
    {
      "cell_type": "markdown",
      "source": [
        "Extract train and test scores for each split, calculate mean and display them as a table."
      ],
      "metadata": {
        "id": "H_Uh2qIdMRJN"
      }
    },
    {
      "cell_type": "code",
      "source": [
        "accuracy_train = []\n",
        "accuracy_splits = []\n",
        "precision_splits = []\n",
        "recall_splits = []\n",
        "f1_splits = []\n",
        "brier_splits = []\n",
        "logloss_splits = []\n",
        "rocauc_splits = []\n",
        "for key, value in scores_gs.items():\n",
        "  if key == 'train_accuracy':\n",
        "    accuracy_train.append(value)\n",
        "  if key == 'test_accuracy':\n",
        "    accuracy_splits.append(value)\n",
        "  if key == 'test_precision':\n",
        "    precision_splits.append(value)\n",
        "  if key == 'test_recall':\n",
        "    recall_splits.append(value)\n",
        "  if key == 'test_f1':\n",
        "    f1_splits.append(value)\n",
        "  if key == 'test_neg_brier_score':\n",
        "    brier_splits.append(value)\n",
        "  if key == 'test_neg_log_loss':\n",
        "    logloss_splits.append(value)\n",
        "  if key == 'test_roc_auc':\n",
        "    rocauc_splits.append(value)\n",
        "\n",
        "\n",
        "# set column names\n",
        "split_cols_names = ['split 1', 'split 2', 'split 3', 'split 4', 'split 5',\n",
        "                    'split 6', 'split 7', 'split 8', 'split 9', 'split 10']\n",
        "\n",
        "# convert lists of scores to dataframe\n",
        "accuracy_train = pd.DataFrame(accuracy_train, columns=split_cols_names)\n",
        "accuracy_splits = pd.DataFrame(accuracy_splits, columns=split_cols_names)\n",
        "precision_splits = pd.DataFrame(precision_splits, columns=split_cols_names)\n",
        "recall_splits = pd.DataFrame(recall_splits, columns=split_cols_names)\n",
        "f1_splits = pd.DataFrame(f1_splits, columns=split_cols_names)\n",
        "brier_splits = pd.DataFrame(brier_splits, columns=split_cols_names)\n",
        "logloss_splits = pd.DataFrame(logloss_splits, columns=split_cols_names)\n",
        "rocauc_splits = pd.DataFrame(rocauc_splits, columns=split_cols_names)\n",
        "\n",
        "# rename rows\n",
        "accuracy_train.rename(index = {0: \"Accuracy Train\"}, inplace = True)\n",
        "accuracy_splits.rename(index = {0: \"Accuracy\"}, inplace = True)\n",
        "precision_splits.rename(index = {0: \"Precision\"}, inplace = True)\n",
        "recall_splits.rename(index = {0: \"Recall\"}, inplace = True)\n",
        "f1_splits.rename(index = {0: \"F1\"}, inplace = True)\n",
        "brier_splits.rename(index = {0: \"Brier\"}, inplace = True)\n",
        "logloss_splits.rename(index = {0: \"LogLoss\"}, inplace = True)\n",
        "rocauc_splits.rename(index = {0: \"RocAuc\"}, inplace = True)\n",
        "\n",
        "\n",
        "# merge all dataframes into a single one\n",
        "metrics_svc = pd.concat([accuracy_train, accuracy_splits, precision_splits,\n",
        "                     recall_splits, f1_splits, brier_splits, logloss_splits,\n",
        "                     rocauc_splits])\n",
        "\n",
        "# calculate mean scores for each row\n",
        "mean_scores = metrics_svc.mean(axis=1)\n",
        "\n",
        "# append column to the dataframe\n",
        "metrics_svc['mean'] = round(mean_scores, 4)\n",
        "\n",
        "# display dataframe as a table\n",
        "display(metrics_svc)"
      ],
      "metadata": {
        "colab": {
          "base_uri": "https://localhost:8080/",
          "height": 300
        },
        "id": "jiVpYxnaEcq1",
        "outputId": "94d7612a-3476-4c7c-fcd1-87f5ed64dc4a"
      },
      "execution_count": 138,
      "outputs": [
        {
          "output_type": "display_data",
          "data": {
            "text/html": [
              "\n",
              "  <div id=\"df-7c073b44-b3ed-4661-ac96-6bd8279064f4\">\n",
              "    <div class=\"colab-df-container\">\n",
              "      <div>\n",
              "<style scoped>\n",
              "    .dataframe tbody tr th:only-of-type {\n",
              "        vertical-align: middle;\n",
              "    }\n",
              "\n",
              "    .dataframe tbody tr th {\n",
              "        vertical-align: top;\n",
              "    }\n",
              "\n",
              "    .dataframe thead th {\n",
              "        text-align: right;\n",
              "    }\n",
              "</style>\n",
              "<table border=\"1\" class=\"dataframe\">\n",
              "  <thead>\n",
              "    <tr style=\"text-align: right;\">\n",
              "      <th></th>\n",
              "      <th>split 1</th>\n",
              "      <th>split 2</th>\n",
              "      <th>split 3</th>\n",
              "      <th>split 4</th>\n",
              "      <th>split 5</th>\n",
              "      <th>split 6</th>\n",
              "      <th>split 7</th>\n",
              "      <th>split 8</th>\n",
              "      <th>split 9</th>\n",
              "      <th>split 10</th>\n",
              "      <th>mean</th>\n",
              "    </tr>\n",
              "  </thead>\n",
              "  <tbody>\n",
              "    <tr>\n",
              "      <th>Accuracy Train</th>\n",
              "      <td>1.000000</td>\n",
              "      <td>0.999805</td>\n",
              "      <td>0.999805</td>\n",
              "      <td>0.999805</td>\n",
              "      <td>1.000000</td>\n",
              "      <td>0.999805</td>\n",
              "      <td>0.999805</td>\n",
              "      <td>0.999805</td>\n",
              "      <td>0.999805</td>\n",
              "      <td>0.999805</td>\n",
              "      <td>0.9998</td>\n",
              "    </tr>\n",
              "    <tr>\n",
              "      <th>Accuracy</th>\n",
              "      <td>0.978947</td>\n",
              "      <td>0.982456</td>\n",
              "      <td>0.982456</td>\n",
              "      <td>0.991228</td>\n",
              "      <td>0.992982</td>\n",
              "      <td>0.989455</td>\n",
              "      <td>0.991213</td>\n",
              "      <td>0.984183</td>\n",
              "      <td>0.977153</td>\n",
              "      <td>0.989455</td>\n",
              "      <td>0.9860</td>\n",
              "    </tr>\n",
              "    <tr>\n",
              "      <th>Precision</th>\n",
              "      <td>0.949640</td>\n",
              "      <td>0.956835</td>\n",
              "      <td>0.963504</td>\n",
              "      <td>0.992537</td>\n",
              "      <td>0.978417</td>\n",
              "      <td>0.978102</td>\n",
              "      <td>0.978261</td>\n",
              "      <td>0.977612</td>\n",
              "      <td>0.962406</td>\n",
              "      <td>0.977941</td>\n",
              "      <td>0.9715</td>\n",
              "    </tr>\n",
              "    <tr>\n",
              "      <th>Recall</th>\n",
              "      <td>0.963504</td>\n",
              "      <td>0.970803</td>\n",
              "      <td>0.963504</td>\n",
              "      <td>0.970803</td>\n",
              "      <td>0.992701</td>\n",
              "      <td>0.978102</td>\n",
              "      <td>0.985401</td>\n",
              "      <td>0.956204</td>\n",
              "      <td>0.941176</td>\n",
              "      <td>0.977941</td>\n",
              "      <td>0.9700</td>\n",
              "    </tr>\n",
              "    <tr>\n",
              "      <th>F1</th>\n",
              "      <td>0.956522</td>\n",
              "      <td>0.963768</td>\n",
              "      <td>0.963504</td>\n",
              "      <td>0.981550</td>\n",
              "      <td>0.985507</td>\n",
              "      <td>0.978102</td>\n",
              "      <td>0.981818</td>\n",
              "      <td>0.966790</td>\n",
              "      <td>0.951673</td>\n",
              "      <td>0.977941</td>\n",
              "      <td>0.9707</td>\n",
              "    </tr>\n",
              "    <tr>\n",
              "      <th>Brier</th>\n",
              "      <td>-0.014601</td>\n",
              "      <td>-0.011231</td>\n",
              "      <td>-0.010422</td>\n",
              "      <td>-0.008658</td>\n",
              "      <td>-0.007930</td>\n",
              "      <td>-0.008425</td>\n",
              "      <td>-0.005974</td>\n",
              "      <td>-0.011509</td>\n",
              "      <td>-0.015876</td>\n",
              "      <td>-0.008444</td>\n",
              "      <td>-0.0103</td>\n",
              "    </tr>\n",
              "    <tr>\n",
              "      <th>LogLoss</th>\n",
              "      <td>-0.081215</td>\n",
              "      <td>-0.099992</td>\n",
              "      <td>-0.038863</td>\n",
              "      <td>-0.051305</td>\n",
              "      <td>-0.037502</td>\n",
              "      <td>-0.034759</td>\n",
              "      <td>-0.024202</td>\n",
              "      <td>-0.089103</td>\n",
              "      <td>-0.093548</td>\n",
              "      <td>-0.033229</td>\n",
              "      <td>-0.0584</td>\n",
              "    </tr>\n",
              "    <tr>\n",
              "      <th>RocAuc</th>\n",
              "      <td>0.992650</td>\n",
              "      <td>0.995752</td>\n",
              "      <td>0.998719</td>\n",
              "      <td>0.997960</td>\n",
              "      <td>0.998146</td>\n",
              "      <td>0.998936</td>\n",
              "      <td>0.999763</td>\n",
              "      <td>0.996959</td>\n",
              "      <td>0.995143</td>\n",
              "      <td>0.999219</td>\n",
              "      <td>0.9973</td>\n",
              "    </tr>\n",
              "  </tbody>\n",
              "</table>\n",
              "</div>\n",
              "      <button class=\"colab-df-convert\" onclick=\"convertToInteractive('df-7c073b44-b3ed-4661-ac96-6bd8279064f4')\"\n",
              "              title=\"Convert this dataframe to an interactive table.\"\n",
              "              style=\"display:none;\">\n",
              "        \n",
              "  <svg xmlns=\"http://www.w3.org/2000/svg\" height=\"24px\"viewBox=\"0 0 24 24\"\n",
              "       width=\"24px\">\n",
              "    <path d=\"M0 0h24v24H0V0z\" fill=\"none\"/>\n",
              "    <path d=\"M18.56 5.44l.94 2.06.94-2.06 2.06-.94-2.06-.94-.94-2.06-.94 2.06-2.06.94zm-11 1L8.5 8.5l.94-2.06 2.06-.94-2.06-.94L8.5 2.5l-.94 2.06-2.06.94zm10 10l.94 2.06.94-2.06 2.06-.94-2.06-.94-.94-2.06-.94 2.06-2.06.94z\"/><path d=\"M17.41 7.96l-1.37-1.37c-.4-.4-.92-.59-1.43-.59-.52 0-1.04.2-1.43.59L10.3 9.45l-7.72 7.72c-.78.78-.78 2.05 0 2.83L4 21.41c.39.39.9.59 1.41.59.51 0 1.02-.2 1.41-.59l7.78-7.78 2.81-2.81c.8-.78.8-2.07 0-2.86zM5.41 20L4 18.59l7.72-7.72 1.47 1.35L5.41 20z\"/>\n",
              "  </svg>\n",
              "      </button>\n",
              "      \n",
              "  <style>\n",
              "    .colab-df-container {\n",
              "      display:flex;\n",
              "      flex-wrap:wrap;\n",
              "      gap: 12px;\n",
              "    }\n",
              "\n",
              "    .colab-df-convert {\n",
              "      background-color: #E8F0FE;\n",
              "      border: none;\n",
              "      border-radius: 50%;\n",
              "      cursor: pointer;\n",
              "      display: none;\n",
              "      fill: #1967D2;\n",
              "      height: 32px;\n",
              "      padding: 0 0 0 0;\n",
              "      width: 32px;\n",
              "    }\n",
              "\n",
              "    .colab-df-convert:hover {\n",
              "      background-color: #E2EBFA;\n",
              "      box-shadow: 0px 1px 2px rgba(60, 64, 67, 0.3), 0px 1px 3px 1px rgba(60, 64, 67, 0.15);\n",
              "      fill: #174EA6;\n",
              "    }\n",
              "\n",
              "    [theme=dark] .colab-df-convert {\n",
              "      background-color: #3B4455;\n",
              "      fill: #D2E3FC;\n",
              "    }\n",
              "\n",
              "    [theme=dark] .colab-df-convert:hover {\n",
              "      background-color: #434B5C;\n",
              "      box-shadow: 0px 1px 3px 1px rgba(0, 0, 0, 0.15);\n",
              "      filter: drop-shadow(0px 1px 2px rgba(0, 0, 0, 0.3));\n",
              "      fill: #FFFFFF;\n",
              "    }\n",
              "  </style>\n",
              "\n",
              "      <script>\n",
              "        const buttonEl =\n",
              "          document.querySelector('#df-7c073b44-b3ed-4661-ac96-6bd8279064f4 button.colab-df-convert');\n",
              "        buttonEl.style.display =\n",
              "          google.colab.kernel.accessAllowed ? 'block' : 'none';\n",
              "\n",
              "        async function convertToInteractive(key) {\n",
              "          const element = document.querySelector('#df-7c073b44-b3ed-4661-ac96-6bd8279064f4');\n",
              "          const dataTable =\n",
              "            await google.colab.kernel.invokeFunction('convertToInteractive',\n",
              "                                                     [key], {});\n",
              "          if (!dataTable) return;\n",
              "\n",
              "          const docLinkHtml = 'Like what you see? Visit the ' +\n",
              "            '<a target=\"_blank\" href=https://colab.research.google.com/notebooks/data_table.ipynb>data table notebook</a>'\n",
              "            + ' to learn more about interactive tables.';\n",
              "          element.innerHTML = '';\n",
              "          dataTable['output_type'] = 'display_data';\n",
              "          await google.colab.output.renderOutput(dataTable, element);\n",
              "          const docLink = document.createElement('div');\n",
              "          docLink.innerHTML = docLinkHtml;\n",
              "          element.appendChild(docLink);\n",
              "        }\n",
              "      </script>\n",
              "    </div>\n",
              "  </div>\n",
              "  "
            ],
            "text/plain": [
              "                 split 1   split 2   split 3  ...   split 9  split 10    mean\n",
              "Accuracy Train  1.000000  0.999805  0.999805  ...  0.999805  0.999805  0.9998\n",
              "Accuracy        0.978947  0.982456  0.982456  ...  0.977153  0.989455  0.9860\n",
              "Precision       0.949640  0.956835  0.963504  ...  0.962406  0.977941  0.9715\n",
              "Recall          0.963504  0.970803  0.963504  ...  0.941176  0.977941  0.9700\n",
              "F1              0.956522  0.963768  0.963504  ...  0.951673  0.977941  0.9707\n",
              "Brier          -0.014601 -0.011231 -0.010422  ... -0.015876 -0.008444 -0.0103\n",
              "LogLoss        -0.081215 -0.099992 -0.038863  ... -0.093548 -0.033229 -0.0584\n",
              "RocAuc          0.992650  0.995752  0.998719  ...  0.995143  0.999219  0.9973\n",
              "\n",
              "[8 rows x 11 columns]"
            ]
          },
          "metadata": {}
        }
      ]
    },
    {
      "cell_type": "markdown",
      "source": [
        "Plot the **confusion matrix** using Cross Validation."
      ],
      "metadata": {
        "id": "LNu2mvHSMUtl"
      }
    },
    {
      "cell_type": "code",
      "source": [
        "# predict using cross validation\n",
        "y_pred = cross_val_predict(model_gs, X, y, cv=kf)\n",
        "# generate the confusion matrix\n",
        "cm = confusion_matrix(y, y_pred)\n",
        "# visualize confusion matrix with seaborn heatmap\n",
        "cm_matrix = pd.DataFrame(data=cm, columns=['Actual Positive:1',\n",
        "                                           'Actual Negative:0'],\n",
        "                        index=['Predict Positive:1', 'Predict Negative:0'])\n",
        "fig, ax = plt.subplots(figsize=(7,7))  \n",
        "sns.heatmap(cm_matrix, annot=True, fmt='d', cmap='YlGnBu')"
      ],
      "metadata": {
        "colab": {
          "base_uri": "https://localhost:8080/",
          "height": 446
        },
        "id": "DQ9dsN5MJ9yF",
        "outputId": "90ed40e5-332d-4fd9-9998-dbf70ab0a190"
      },
      "execution_count": 137,
      "outputs": [
        {
          "output_type": "execute_result",
          "data": {
            "text/plain": [
              "<matplotlib.axes._subplots.AxesSubplot at 0x7f2840484750>"
            ]
          },
          "metadata": {},
          "execution_count": 137
        },
        {
          "output_type": "display_data",
          "data": {
            "image/png": "[encoded data removed]",
            "text/plain": [
              "<Figure size 504x504 with 2 Axes>"
            ]
          },
          "metadata": {
            "needs_background": "light"
          }
        }
      ]
    },
    {
      "cell_type": "markdown",
      "source": [
        "* **Missclassifications**:\n",
        "  * **34 spam email as ham**!\n",
        "  * 36 ham emails as spam."
      ],
      "metadata": {
        "id": "m_-0W5fOxxdM"
      }
    },
    {
      "cell_type": "markdown",
      "source": [
        "<a name=\"Res-Con\"></a>\n",
        "# **Results and Conclusions**\n",
        "\n",
        "1. **Multinomial Naive-Bayes** had a testing accuracy of **99.1%**, far better than **null accuracy** (76%).\n",
        "\n",
        "  Training the Multinomial Naive-Bayes model was done **instantly** and without **any optimization**.\n",
        "\n",
        "2. **SVC with default settings** (*kernel='rbf', C=1.0*) had a test accuracy of **97.80%**, while with **GridSearch CV minimal hyperparameter optimization** (*kernel='linear', C=10.0*) had a test accuracy of **98.68%**. \n",
        "\n",
        "  Hence, GridSearch CV was successful in identifying the parameters that will improve the performance for this particular model.\n",
        "\n",
        "3. GridSearchCV optimization took **a lot more time** and still produced **lower scores** on most metrics than Multinomial Naive-Bayes!\n",
        "\n",
        "4. **MNB** had only **9 false negatives** (missclassified spam emails), while **SVM** had **34**!"
      ],
      "metadata": {
        "id": "iuO9AphTv0xE"
      }
    },
    {
      "cell_type": "markdown",
      "source": [
        "Cross-Validated score tables for both models reproduced for convinience:"
      ],
      "metadata": {
        "id": "5RlqF-brcLpn"
      }
    },
    {
      "cell_type": "code",
      "source": [
        "print(\"Multinomial Naive-Bayes scores\")\n",
        "display(metrics_mnb)\n",
        "print(\"\\nSupport Vector Machine scores\")\n",
        "display(metrics_svc)"
      ],
      "metadata": {
        "colab": {
          "base_uri": "https://localhost:8080/",
          "height": 638
        },
        "id": "rGMyfbrDZoG5",
        "outputId": "b742f686-5592-4a78-a0c2-e40250498ea8"
      },
      "execution_count": 142,
      "outputs": [
        {
          "output_type": "stream",
          "name": "stdout",
          "text": [
            "Multinomial Naive-Bayes scores\n"
          ]
        },
        {
          "output_type": "display_data",
          "data": {
            "text/html": [
              "\n",
              "  <div id=\"df-b807d734-cb34-4b31-b7ee-c856cf2d9c43\">\n",
              "    <div class=\"colab-df-container\">\n",
              "      <div>\n",
              "<style scoped>\n",
              "    .dataframe tbody tr th:only-of-type {\n",
              "        vertical-align: middle;\n",
              "    }\n",
              "\n",
              "    .dataframe tbody tr th {\n",
              "        vertical-align: top;\n",
              "    }\n",
              "\n",
              "    .dataframe thead th {\n",
              "        text-align: right;\n",
              "    }\n",
              "</style>\n",
              "<table border=\"1\" class=\"dataframe\">\n",
              "  <thead>\n",
              "    <tr style=\"text-align: right;\">\n",
              "      <th></th>\n",
              "      <th>split 1</th>\n",
              "      <th>split 2</th>\n",
              "      <th>split 3</th>\n",
              "      <th>split 4</th>\n",
              "      <th>split 5</th>\n",
              "      <th>split 6</th>\n",
              "      <th>split 7</th>\n",
              "      <th>split 8</th>\n",
              "      <th>split 9</th>\n",
              "      <th>split 10</th>\n",
              "      <th>mean</th>\n",
              "    </tr>\n",
              "  </thead>\n",
              "  <tbody>\n",
              "    <tr>\n",
              "      <th>Accuracy Train</th>\n",
              "      <td>0.996488</td>\n",
              "      <td>0.996683</td>\n",
              "      <td>0.997073</td>\n",
              "      <td>0.997854</td>\n",
              "      <td>0.997073</td>\n",
              "      <td>0.997269</td>\n",
              "      <td>0.996684</td>\n",
              "      <td>0.997074</td>\n",
              "      <td>0.996488</td>\n",
              "      <td>0.997659</td>\n",
              "      <td>0.9970</td>\n",
              "    </tr>\n",
              "    <tr>\n",
              "      <th>Accuracy</th>\n",
              "      <td>0.994737</td>\n",
              "      <td>0.984211</td>\n",
              "      <td>0.994737</td>\n",
              "      <td>0.984211</td>\n",
              "      <td>0.992982</td>\n",
              "      <td>0.984183</td>\n",
              "      <td>0.992970</td>\n",
              "      <td>0.994728</td>\n",
              "      <td>0.994728</td>\n",
              "      <td>0.985940</td>\n",
              "      <td>0.9903</td>\n",
              "    </tr>\n",
              "    <tr>\n",
              "      <th>Precision</th>\n",
              "      <td>0.978571</td>\n",
              "      <td>0.944444</td>\n",
              "      <td>0.978571</td>\n",
              "      <td>0.944444</td>\n",
              "      <td>0.978417</td>\n",
              "      <td>0.963768</td>\n",
              "      <td>0.978417</td>\n",
              "      <td>0.985507</td>\n",
              "      <td>0.985401</td>\n",
              "      <td>0.944444</td>\n",
              "      <td>0.9682</td>\n",
              "    </tr>\n",
              "    <tr>\n",
              "      <th>Recall</th>\n",
              "      <td>1.000000</td>\n",
              "      <td>0.992701</td>\n",
              "      <td>1.000000</td>\n",
              "      <td>0.992701</td>\n",
              "      <td>0.992701</td>\n",
              "      <td>0.970803</td>\n",
              "      <td>0.992701</td>\n",
              "      <td>0.992701</td>\n",
              "      <td>0.992647</td>\n",
              "      <td>1.000000</td>\n",
              "      <td>0.9927</td>\n",
              "    </tr>\n",
              "    <tr>\n",
              "      <th>F1</th>\n",
              "      <td>0.989170</td>\n",
              "      <td>0.967972</td>\n",
              "      <td>0.989170</td>\n",
              "      <td>0.967972</td>\n",
              "      <td>0.985507</td>\n",
              "      <td>0.967273</td>\n",
              "      <td>0.985507</td>\n",
              "      <td>0.989091</td>\n",
              "      <td>0.989011</td>\n",
              "      <td>0.971429</td>\n",
              "      <td>0.9802</td>\n",
              "    </tr>\n",
              "    <tr>\n",
              "      <th>Brier</th>\n",
              "      <td>-0.004496</td>\n",
              "      <td>-0.013487</td>\n",
              "      <td>-0.005303</td>\n",
              "      <td>-0.014811</td>\n",
              "      <td>-0.007010</td>\n",
              "      <td>-0.012131</td>\n",
              "      <td>-0.007840</td>\n",
              "      <td>-0.005628</td>\n",
              "      <td>-0.005326</td>\n",
              "      <td>-0.012991</td>\n",
              "      <td>-0.0089</td>\n",
              "    </tr>\n",
              "    <tr>\n",
              "      <th>LogLoss</th>\n",
              "      <td>-0.016956</td>\n",
              "      <td>-0.336931</td>\n",
              "      <td>-0.121828</td>\n",
              "      <td>-0.231035</td>\n",
              "      <td>-0.152502</td>\n",
              "      <td>-0.121068</td>\n",
              "      <td>-0.121126</td>\n",
              "      <td>-0.108661</td>\n",
              "      <td>-0.096960</td>\n",
              "      <td>-0.211296</td>\n",
              "      <td>-0.1518</td>\n",
              "    </tr>\n",
              "    <tr>\n",
              "      <th>RocAuc</th>\n",
              "      <td>1.000000</td>\n",
              "      <td>0.993577</td>\n",
              "      <td>0.998112</td>\n",
              "      <td>0.995634</td>\n",
              "      <td>0.996730</td>\n",
              "      <td>0.998065</td>\n",
              "      <td>0.998099</td>\n",
              "      <td>0.998006</td>\n",
              "      <td>0.998361</td>\n",
              "      <td>0.995721</td>\n",
              "      <td>0.9972</td>\n",
              "    </tr>\n",
              "  </tbody>\n",
              "</table>\n",
              "</div>\n",
              "      <button class=\"colab-df-convert\" onclick=\"convertToInteractive('df-b807d734-cb34-4b31-b7ee-c856cf2d9c43')\"\n",
              "              title=\"Convert this dataframe to an interactive table.\"\n",
              "              style=\"display:none;\">\n",
              "        \n",
              "  <svg xmlns=\"http://www.w3.org/2000/svg\" height=\"24px\"viewBox=\"0 0 24 24\"\n",
              "       width=\"24px\">\n",
              "    <path d=\"M0 0h24v24H0V0z\" fill=\"none\"/>\n",
              "    <path d=\"M18.56 5.44l.94 2.06.94-2.06 2.06-.94-2.06-.94-.94-2.06-.94 2.06-2.06.94zm-11 1L8.5 8.5l.94-2.06 2.06-.94-2.06-.94L8.5 2.5l-.94 2.06-2.06.94zm10 10l.94 2.06.94-2.06 2.06-.94-2.06-.94-.94-2.06-.94 2.06-2.06.94z\"/><path d=\"M17.41 7.96l-1.37-1.37c-.4-.4-.92-.59-1.43-.59-.52 0-1.04.2-1.43.59L10.3 9.45l-7.72 7.72c-.78.78-.78 2.05 0 2.83L4 21.41c.39.39.9.59 1.41.59.51 0 1.02-.2 1.41-.59l7.78-7.78 2.81-2.81c.8-.78.8-2.07 0-2.86zM5.41 20L4 18.59l7.72-7.72 1.47 1.35L5.41 20z\"/>\n",
              "  </svg>\n",
              "      </button>\n",
              "      \n",
              "  <style>\n",
              "    .colab-df-container {\n",
              "      display:flex;\n",
              "      flex-wrap:wrap;\n",
              "      gap: 12px;\n",
              "    }\n",
              "\n",
              "    .colab-df-convert {\n",
              "      background-color: #E8F0FE;\n",
              "      border: none;\n",
              "      border-radius: 50%;\n",
              "      cursor: pointer;\n",
              "      display: none;\n",
              "      fill: #1967D2;\n",
              "      height: 32px;\n",
              "      padding: 0 0 0 0;\n",
              "      width: 32px;\n",
              "    }\n",
              "\n",
              "    .colab-df-convert:hover {\n",
              "      background-color: #E2EBFA;\n",
              "      box-shadow: 0px 1px 2px rgba(60, 64, 67, 0.3), 0px 1px 3px 1px rgba(60, 64, 67, 0.15);\n",
              "      fill: #174EA6;\n",
              "    }\n",
              "\n",
              "    [theme=dark] .colab-df-convert {\n",
              "      background-color: #3B4455;\n",
              "      fill: #D2E3FC;\n",
              "    }\n",
              "\n",
              "    [theme=dark] .colab-df-convert:hover {\n",
              "      background-color: #434B5C;\n",
              "      box-shadow: 0px 1px 3px 1px rgba(0, 0, 0, 0.15);\n",
              "      filter: drop-shadow(0px 1px 2px rgba(0, 0, 0, 0.3));\n",
              "      fill: #FFFFFF;\n",
              "    }\n",
              "  </style>\n",
              "\n",
              "      <script>\n",
              "        const buttonEl =\n",
              "          document.querySelector('#df-b807d734-cb34-4b31-b7ee-c856cf2d9c43 button.colab-df-convert');\n",
              "        buttonEl.style.display =\n",
              "          google.colab.kernel.accessAllowed ? 'block' : 'none';\n",
              "\n",
              "        async function convertToInteractive(key) {\n",
              "          const element = document.querySelector('#df-b807d734-cb34-4b31-b7ee-c856cf2d9c43');\n",
              "          const dataTable =\n",
              "            await google.colab.kernel.invokeFunction('convertToInteractive',\n",
              "                                                     [key], {});\n",
              "          if (!dataTable) return;\n",
              "\n",
              "          const docLinkHtml = 'Like what you see? Visit the ' +\n",
              "            '<a target=\"_blank\" href=https://colab.research.google.com/notebooks/data_table.ipynb>data table notebook</a>'\n",
              "            + ' to learn more about interactive tables.';\n",
              "          element.innerHTML = '';\n",
              "          dataTable['output_type'] = 'display_data';\n",
              "          await google.colab.output.renderOutput(dataTable, element);\n",
              "          const docLink = document.createElement('div');\n",
              "          docLink.innerHTML = docLinkHtml;\n",
              "          element.appendChild(docLink);\n",
              "        }\n",
              "      </script>\n",
              "    </div>\n",
              "  </div>\n",
              "  "
            ],
            "text/plain": [
              "                 split 1   split 2   split 3  ...   split 9  split 10    mean\n",
              "Accuracy Train  0.996488  0.996683  0.997073  ...  0.996488  0.997659  0.9970\n",
              "Accuracy        0.994737  0.984211  0.994737  ...  0.994728  0.985940  0.9903\n",
              "Precision       0.978571  0.944444  0.978571  ...  0.985401  0.944444  0.9682\n",
              "Recall          1.000000  0.992701  1.000000  ...  0.992647  1.000000  0.9927\n",
              "F1              0.989170  0.967972  0.989170  ...  0.989011  0.971429  0.9802\n",
              "Brier          -0.004496 -0.013487 -0.005303  ... -0.005326 -0.012991 -0.0089\n",
              "LogLoss        -0.016956 -0.336931 -0.121828  ... -0.096960 -0.211296 -0.1518\n",
              "RocAuc          1.000000  0.993577  0.998112  ...  0.998361  0.995721  0.9972\n",
              "\n",
              "[8 rows x 11 columns]"
            ]
          },
          "metadata": {}
        },
        {
          "output_type": "stream",
          "name": "stdout",
          "text": [
            "\n",
            "Support Vector Machine scores\n"
          ]
        },
        {
          "output_type": "display_data",
          "data": {
            "text/html": [
              "\n",
              "  <div id=\"df-73c169ce-3c07-4dc2-90c3-6097985bc5e6\">\n",
              "    <div class=\"colab-df-container\">\n",
              "      <div>\n",
              "<style scoped>\n",
              "    .dataframe tbody tr th:only-of-type {\n",
              "        vertical-align: middle;\n",
              "    }\n",
              "\n",
              "    .dataframe tbody tr th {\n",
              "        vertical-align: top;\n",
              "    }\n",
              "\n",
              "    .dataframe thead th {\n",
              "        text-align: right;\n",
              "    }\n",
              "</style>\n",
              "<table border=\"1\" class=\"dataframe\">\n",
              "  <thead>\n",
              "    <tr style=\"text-align: right;\">\n",
              "      <th></th>\n",
              "      <th>split 1</th>\n",
              "      <th>split 2</th>\n",
              "      <th>split 3</th>\n",
              "      <th>split 4</th>\n",
              "      <th>split 5</th>\n",
              "      <th>split 6</th>\n",
              "      <th>split 7</th>\n",
              "      <th>split 8</th>\n",
              "      <th>split 9</th>\n",
              "      <th>split 10</th>\n",
              "      <th>mean</th>\n",
              "    </tr>\n",
              "  </thead>\n",
              "  <tbody>\n",
              "    <tr>\n",
              "      <th>Accuracy Train</th>\n",
              "      <td>1.000000</td>\n",
              "      <td>0.999805</td>\n",
              "      <td>0.999805</td>\n",
              "      <td>0.999805</td>\n",
              "      <td>1.000000</td>\n",
              "      <td>0.999805</td>\n",
              "      <td>0.999805</td>\n",
              "      <td>0.999805</td>\n",
              "      <td>0.999805</td>\n",
              "      <td>0.999805</td>\n",
              "      <td>0.9998</td>\n",
              "    </tr>\n",
              "    <tr>\n",
              "      <th>Accuracy</th>\n",
              "      <td>0.978947</td>\n",
              "      <td>0.982456</td>\n",
              "      <td>0.982456</td>\n",
              "      <td>0.991228</td>\n",
              "      <td>0.992982</td>\n",
              "      <td>0.989455</td>\n",
              "      <td>0.991213</td>\n",
              "      <td>0.984183</td>\n",
              "      <td>0.977153</td>\n",
              "      <td>0.989455</td>\n",
              "      <td>0.9860</td>\n",
              "    </tr>\n",
              "    <tr>\n",
              "      <th>Precision</th>\n",
              "      <td>0.949640</td>\n",
              "      <td>0.956835</td>\n",
              "      <td>0.963504</td>\n",
              "      <td>0.992537</td>\n",
              "      <td>0.978417</td>\n",
              "      <td>0.978102</td>\n",
              "      <td>0.978261</td>\n",
              "      <td>0.977612</td>\n",
              "      <td>0.962406</td>\n",
              "      <td>0.977941</td>\n",
              "      <td>0.9715</td>\n",
              "    </tr>\n",
              "    <tr>\n",
              "      <th>Recall</th>\n",
              "      <td>0.963504</td>\n",
              "      <td>0.970803</td>\n",
              "      <td>0.963504</td>\n",
              "      <td>0.970803</td>\n",
              "      <td>0.992701</td>\n",
              "      <td>0.978102</td>\n",
              "      <td>0.985401</td>\n",
              "      <td>0.956204</td>\n",
              "      <td>0.941176</td>\n",
              "      <td>0.977941</td>\n",
              "      <td>0.9700</td>\n",
              "    </tr>\n",
              "    <tr>\n",
              "      <th>F1</th>\n",
              "      <td>0.956522</td>\n",
              "      <td>0.963768</td>\n",
              "      <td>0.963504</td>\n",
              "      <td>0.981550</td>\n",
              "      <td>0.985507</td>\n",
              "      <td>0.978102</td>\n",
              "      <td>0.981818</td>\n",
              "      <td>0.966790</td>\n",
              "      <td>0.951673</td>\n",
              "      <td>0.977941</td>\n",
              "      <td>0.9707</td>\n",
              "    </tr>\n",
              "    <tr>\n",
              "      <th>Brier</th>\n",
              "      <td>-0.014601</td>\n",
              "      <td>-0.011231</td>\n",
              "      <td>-0.010422</td>\n",
              "      <td>-0.008658</td>\n",
              "      <td>-0.007930</td>\n",
              "      <td>-0.008425</td>\n",
              "      <td>-0.005974</td>\n",
              "      <td>-0.011509</td>\n",
              "      <td>-0.015876</td>\n",
              "      <td>-0.008444</td>\n",
              "      <td>-0.0103</td>\n",
              "    </tr>\n",
              "    <tr>\n",
              "      <th>LogLoss</th>\n",
              "      <td>-0.081215</td>\n",
              "      <td>-0.099992</td>\n",
              "      <td>-0.038863</td>\n",
              "      <td>-0.051305</td>\n",
              "      <td>-0.037502</td>\n",
              "      <td>-0.034759</td>\n",
              "      <td>-0.024202</td>\n",
              "      <td>-0.089103</td>\n",
              "      <td>-0.093548</td>\n",
              "      <td>-0.033229</td>\n",
              "      <td>-0.0584</td>\n",
              "    </tr>\n",
              "    <tr>\n",
              "      <th>RocAuc</th>\n",
              "      <td>0.992650</td>\n",
              "      <td>0.995752</td>\n",
              "      <td>0.998719</td>\n",
              "      <td>0.997960</td>\n",
              "      <td>0.998146</td>\n",
              "      <td>0.998936</td>\n",
              "      <td>0.999763</td>\n",
              "      <td>0.996959</td>\n",
              "      <td>0.995143</td>\n",
              "      <td>0.999219</td>\n",
              "      <td>0.9973</td>\n",
              "    </tr>\n",
              "  </tbody>\n",
              "</table>\n",
              "</div>\n",
              "      <button class=\"colab-df-convert\" onclick=\"convertToInteractive('df-73c169ce-3c07-4dc2-90c3-6097985bc5e6')\"\n",
              "              title=\"Convert this dataframe to an interactive table.\"\n",
              "              style=\"display:none;\">\n",
              "        \n",
              "  <svg xmlns=\"http://www.w3.org/2000/svg\" height=\"24px\"viewBox=\"0 0 24 24\"\n",
              "       width=\"24px\">\n",
              "    <path d=\"M0 0h24v24H0V0z\" fill=\"none\"/>\n",
              "    <path d=\"M18.56 5.44l.94 2.06.94-2.06 2.06-.94-2.06-.94-.94-2.06-.94 2.06-2.06.94zm-11 1L8.5 8.5l.94-2.06 2.06-.94-2.06-.94L8.5 2.5l-.94 2.06-2.06.94zm10 10l.94 2.06.94-2.06 2.06-.94-2.06-.94-.94-2.06-.94 2.06-2.06.94z\"/><path d=\"M17.41 7.96l-1.37-1.37c-.4-.4-.92-.59-1.43-.59-.52 0-1.04.2-1.43.59L10.3 9.45l-7.72 7.72c-.78.78-.78 2.05 0 2.83L4 21.41c.39.39.9.59 1.41.59.51 0 1.02-.2 1.41-.59l7.78-7.78 2.81-2.81c.8-.78.8-2.07 0-2.86zM5.41 20L4 18.59l7.72-7.72 1.47 1.35L5.41 20z\"/>\n",
              "  </svg>\n",
              "      </button>\n",
              "      \n",
              "  <style>\n",
              "    .colab-df-container {\n",
              "      display:flex;\n",
              "      flex-wrap:wrap;\n",
              "      gap: 12px;\n",
              "    }\n",
              "\n",
              "    .colab-df-convert {\n",
              "      background-color: #E8F0FE;\n",
              "      border: none;\n",
              "      border-radius: 50%;\n",
              "      cursor: pointer;\n",
              "      display: none;\n",
              "      fill: #1967D2;\n",
              "      height: 32px;\n",
              "      padding: 0 0 0 0;\n",
              "      width: 32px;\n",
              "    }\n",
              "\n",
              "    .colab-df-convert:hover {\n",
              "      background-color: #E2EBFA;\n",
              "      box-shadow: 0px 1px 2px rgba(60, 64, 67, 0.3), 0px 1px 3px 1px rgba(60, 64, 67, 0.15);\n",
              "      fill: #174EA6;\n",
              "    }\n",
              "\n",
              "    [theme=dark] .colab-df-convert {\n",
              "      background-color: #3B4455;\n",
              "      fill: #D2E3FC;\n",
              "    }\n",
              "\n",
              "    [theme=dark] .colab-df-convert:hover {\n",
              "      background-color: #434B5C;\n",
              "      box-shadow: 0px 1px 3px 1px rgba(0, 0, 0, 0.15);\n",
              "      filter: drop-shadow(0px 1px 2px rgba(0, 0, 0, 0.3));\n",
              "      fill: #FFFFFF;\n",
              "    }\n",
              "  </style>\n",
              "\n",
              "      <script>\n",
              "        const buttonEl =\n",
              "          document.querySelector('#df-73c169ce-3c07-4dc2-90c3-6097985bc5e6 button.colab-df-convert');\n",
              "        buttonEl.style.display =\n",
              "          google.colab.kernel.accessAllowed ? 'block' : 'none';\n",
              "\n",
              "        async function convertToInteractive(key) {\n",
              "          const element = document.querySelector('#df-73c169ce-3c07-4dc2-90c3-6097985bc5e6');\n",
              "          const dataTable =\n",
              "            await google.colab.kernel.invokeFunction('convertToInteractive',\n",
              "                                                     [key], {});\n",
              "          if (!dataTable) return;\n",
              "\n",
              "          const docLinkHtml = 'Like what you see? Visit the ' +\n",
              "            '<a target=\"_blank\" href=https://colab.research.google.com/notebooks/data_table.ipynb>data table notebook</a>'\n",
              "            + ' to learn more about interactive tables.';\n",
              "          element.innerHTML = '';\n",
              "          dataTable['output_type'] = 'display_data';\n",
              "          await google.colab.output.renderOutput(dataTable, element);\n",
              "          const docLink = document.createElement('div');\n",
              "          docLink.innerHTML = docLinkHtml;\n",
              "          element.appendChild(docLink);\n",
              "        }\n",
              "      </script>\n",
              "    </div>\n",
              "  </div>\n",
              "  "
            ],
            "text/plain": [
              "                 split 1   split 2   split 3  ...   split 9  split 10    mean\n",
              "Accuracy Train  1.000000  0.999805  0.999805  ...  0.999805  0.999805  0.9998\n",
              "Accuracy        0.978947  0.982456  0.982456  ...  0.977153  0.989455  0.9860\n",
              "Precision       0.949640  0.956835  0.963504  ...  0.962406  0.977941  0.9715\n",
              "Recall          0.963504  0.970803  0.963504  ...  0.941176  0.977941  0.9700\n",
              "F1              0.956522  0.963768  0.963504  ...  0.951673  0.977941  0.9707\n",
              "Brier          -0.014601 -0.011231 -0.010422  ... -0.015876 -0.008444 -0.0103\n",
              "LogLoss        -0.081215 -0.099992 -0.038863  ... -0.093548 -0.033229 -0.0584\n",
              "RocAuc          0.992650  0.995752  0.998719  ...  0.995143  0.999219  0.9973\n",
              "\n",
              "[8 rows x 11 columns]"
            ]
          },
          "metadata": {}
        }
      ]
    }
  ]
}