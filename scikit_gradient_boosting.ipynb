{
 "cells": [
  {
   "cell_type": "code",
   "execution_count": 9,
   "metadata": {},
   "outputs": [],
   "source": [
    "import numpy as np\n",
    "import pandas as pd\n",
    "import seaborn as sns\n",
    "import matplotlib.pyplot as plt\n",
    "from sklearn.feature_extraction.text import CountVectorizer\n",
    "from sklearn.model_selection import train_test_split\n",
    "from sklearn.ensemble import GradientBoostingClassifier\n",
    "from sklearn.metrics import classification_report, confusion_matrix"
   ]
  },
  {
   "cell_type": "code",
   "execution_count": 10,
   "metadata": {},
   "outputs": [],
   "source": [
    "# Importing dataset and separating labels\n",
    "train_data = pd.read_csv(\"D:\\ML\\Datasets\\emails.csv\")\n",
    "y_train = train_data['spam']\n",
    "train_data.drop(labels='spam', axis=1, inplace=True)"
   ]
  },
  {
   "cell_type": "code",
   "execution_count": 11,
   "metadata": {},
   "outputs": [],
   "source": [
    "# Creating bag of words\n",
    "vectorizer = CountVectorizer(max_features=500)\n",
    "X = vectorizer.fit_transform(train_data.text)\n",
    "features = vectorizer.get_feature_names() # to check fature names if required\n",
    "X_train = X.toarray()"
   ]
  },
  {
   "cell_type": "code",
   "execution_count": 12,
   "metadata": {},
   "outputs": [],
   "source": [
    "# Splitting the dataset\n",
    "state = 12\n",
    "train_size = 0.6\n",
    "X_train, X_test, y_train, y_test = train_test_split(X_train, y_train, train_size=train_size, stratify=y_train, random_state=state) # stratify=y_train preserves spam to ham ratio, might not be needed"
   ]
  },
  {
   "cell_type": "code",
   "execution_count": 13,
   "metadata": {},
   "outputs": [
    {
     "name": "stdout",
     "output_type": "stream",
     "text": [
      "      Iter       Train Loss   Remaining Time \n",
      "         1           0.9661            0.06s\n",
      "         2           0.8531            0.04s\n",
      "         3           0.8177            0.04s\n",
      "         4           0.7630            0.04s\n",
      "         5           0.7216            0.04s\n",
      "         6           0.6712            0.03s\n",
      "         7           0.6458            0.03s\n",
      "         8           0.6156            0.03s\n",
      "         9           0.6007            0.03s\n",
      "        10           0.5687            0.02s\n",
      "        11           0.5541            0.02s\n",
      "        12           0.5100            0.02s\n",
      "        13           0.4940            0.02s\n",
      "        14           0.4834            0.01s\n",
      "        15           0.4585            0.01s\n",
      "        16           0.4350            0.01s\n",
      "        17           0.4176            0.01s\n",
      "        18           0.4028            0.00s\n",
      "        19           0.3875            0.00s\n",
      "        20           0.3700            0.00s\n",
      "Accuracy score (training): 0.938\n",
      "Accuracy score (validation): 0.921\n"
     ]
    }
   ],
   "source": [
    "# Building trees\n",
    "gb_clf = GradientBoostingClassifier(n_estimators=20, learning_rate=0.5, max_features=2, max_depth=5, random_state=0, verbose=3) # can specify loss function\n",
    "gb_clf.fit(X_train, y_train)\n",
    "print(\"Accuracy score (training): {0:.3f}\".format(gb_clf.score(X_train, y_train)))\n",
    "print(\"Accuracy score (validation): {0:.3f}\".format(gb_clf.score(X_test, y_test)))"
   ]
  },
  {
   "cell_type": "code",
   "execution_count": 14,
   "metadata": {},
   "outputs": [
    {
     "name": "stdout",
     "output_type": "stream",
     "text": [
      "Confusion Matrix:\n",
      "[[1672   73]\n",
      " [ 108  439]]\n"
     ]
    }
   ],
   "source": [
    "# Testing trees\n",
    "predictions = gb_clf.predict(X_test)\n",
    "print('Confusion Matrix:') # printing confusion matrix using test values of Y and the predictive value of y\n",
    "print(confusion_matrix(y_test, predictions))"
   ]
  },
  {
   "cell_type": "code",
   "execution_count": 17,
   "metadata": {},
   "outputs": [
    {
     "data": {
      "image/png": "[encoded data removed]",
      "text/plain": [
       "<Figure size 432x288 with 2 Axes>"
      ]
     },
     "metadata": {
      "needs_background": "light"
     },
     "output_type": "display_data"
    }
   ],
   "source": [
    "# Printing confusion matrix in the colored format seen below in output\n",
    "cm = confusion_matrix(y_test, predictions)\n",
    "cm\n",
    "class_names=[0, 1] # names of classes\n",
    "fig, ax = plt.subplots()\n",
    "tick_marks = np.arange(len(class_names))\n",
    "plt.xticks(tick_marks, class_names)\n",
    "plt.yticks(tick_marks, class_names)\n",
    "\n",
    "# Creating heatmap\n",
    "sns.heatmap(pd.DataFrame(cm), annot=True, cmap=\"YlGnBu\",fmt='g')\n",
    "ax.xaxis.set_label_position(\"top\")\n",
    "plt.tight_layout()\n",
    "plt.title('Confusion matrix', y=1.1)\n",
    "plt.ylabel('Actual label')\n",
    "plt.xlabel('Predicted label')\n",
    "plt.show()"
   ]
  },
  {
   "cell_type": "code",
   "execution_count": 18,
   "metadata": {},
   "outputs": [
    {
     "name": "stdout",
     "output_type": "stream",
     "text": [
      "Classification Report:\n",
      "              precision    recall  f1-score   support\n",
      "\n",
      "           0       0.94      0.96      0.95      1745\n",
      "           1       0.86      0.80      0.83       547\n",
      "\n",
      "    accuracy                           0.92      2292\n",
      "   macro avg       0.90      0.88      0.89      2292\n",
      "weighted avg       0.92      0.92      0.92      2292\n",
      "\n"
     ]
    }
   ],
   "source": [
    "# Printing classification report\n",
    "print(\"Classification Report:\")\n",
    "print(classification_report(y_test, predictions))"
   ]
  },
  {
   "cell_type": "code",
   "execution_count": null,
   "metadata": {},
   "outputs": [],
   "source": [
    "dd"
   ]
  }
 ],
 "metadata": {
  "kernelspec": {
   "display_name": "Python 3",
   "language": "python",
   "name": "python3"
  },
  "language_info": {
   "codemirror_mode": {
    "name": "ipython",
    "version": 3
   },
   "file_extension": ".py",
   "mimetype": "text/x-python",
   "name": "python",
   "nbconvert_exporter": "python",
   "pygments_lexer": "ipython3",
   "version": "3.8.5"
  }
 },
 "nbformat": 4,
 "nbformat_minor": 4
}
