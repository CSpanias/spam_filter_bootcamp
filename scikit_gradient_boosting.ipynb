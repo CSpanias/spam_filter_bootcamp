{
 "cells": [
  {
   "cell_type": "code",
   "execution_count": 259,
   "metadata": {},
   "outputs": [],
   "source": [
    "import numpy as np\n",
    "import pandas as pd\n",
    "import seaborn as sns\n",
    "import matplotlib.pyplot as plt\n",
    "from sklearn.feature_extraction.text import CountVectorizer\n",
    "from sklearn.model_selection import train_test_split\n",
    "from sklearn.ensemble import GradientBoostingClassifier\n",
    "from sklearn.metrics import classification_report, confusion_matrix"
   ]
  },
  {
   "cell_type": "code",
   "execution_count": 260,
   "metadata": {},
   "outputs": [],
   "source": [
    "# Importing dataset and separating labels\n",
    "train_data = pd.read_csv(\"D:\\ML\\Datasets\\emails.csv\")\n",
    "y_train = train_data['spam']\n",
    "train_data.drop(labels='spam', axis=1, inplace=True)"
   ]
  },
  {
   "cell_type": "code",
   "execution_count": 261,
   "metadata": {},
   "outputs": [],
   "source": [
    "# Creating bag of words\n",
    "vectorizer = CountVectorizer(max_features=500, stop_words=['subject'])\n",
    "                             #, strip_accents=\"unicode\")\n",
    "X = vectorizer.fit_transform(train_data.text)\n",
    "features = vectorizer.get_feature_names() # to check feature names if required\n",
    "X_train = X.toarray()"
   ]
  },
  {
   "cell_type": "code",
   "execution_count": 262,
   "metadata": {},
   "outputs": [],
   "source": [
    "# Splitting the dataset\n",
    "state = 12\n",
    "train_size = 0.6\n",
    "X_train, X_val, y_train, y_val = train_test_split(X_train, y_train, train_size=train_size, stratify=y_train, random_state=state) # stratify=y_train preserves spam to ham ratio, might not be needed"
   ]
  },
  {
   "cell_type": "code",
   "execution_count": 263,
   "metadata": {},
   "outputs": [
    {
     "name": "stdout",
     "output_type": "stream",
     "text": [
      "      Iter       Train Loss   Remaining Time \n",
      "         1           1.0500            0.49s\n",
      "         2           1.0199            0.54s\n",
      "         3           0.9866            0.71s\n",
      "         4           0.9495            0.89s\n",
      "         5           0.9111            0.83s\n",
      "         6           0.8794            0.80s\n",
      "         7           0.8603            0.74s\n",
      "         8           0.8288            0.70s\n",
      "         9           0.8069            0.67s\n",
      "        10           0.7859            0.66s\n",
      "        20           0.6287            0.51s\n",
      "        30           0.4879            0.43s\n",
      "        40           0.3912            0.35s\n",
      "        50           0.3357            0.29s\n",
      "        60           0.2916            0.23s\n",
      "        70           0.2569            0.17s\n",
      "        80           0.2231            0.11s\n",
      "        90           0.2012            0.05s\n",
      "       100           0.1799            0.00s\n",
      "Accuracy score (training): 0.992\n",
      "Accuracy score (validation): 0.967\n"
     ]
    }
   ],
   "source": [
    "# Building trees\n",
    "gb_clf = GradientBoostingClassifier(n_estimators=100, learning_rate=0.1, max_features=2, max_depth=8, random_state=0, verbose=1) # can specify loss function\n",
    "gb_clf.fit(X_train, y_train)\n",
    "print(\"Accuracy score (training): {0:.3f}\".format(gb_clf.score(X_train, y_train)))\n",
    "print(\"Accuracy score (validation): {0:.3f}\".format(gb_clf.score(X_val, y_val)))"
   ]
  },
  {
   "cell_type": "code",
   "execution_count": 264,
   "metadata": {},
   "outputs": [
    {
     "name": "stdout",
     "output_type": "stream",
     "text": [
      "Confusion Matrix:\n",
      "[[1727   18]\n",
      " [  58  489]]\n"
     ]
    }
   ],
   "source": [
    "# Testing trees\n",
    "predictions = gb_clf.predict(X_val)\n",
    "print('Confusion Matrix:') # printing confusion matrix using test values of Y and the predictive value of y\n",
    "print(confusion_matrix(y_val, predictions))"
   ]
  },
  {
   "cell_type": "code",
   "execution_count": 265,
   "metadata": {},
   "outputs": [
    {
     "data": {
      "image/png": "[encoded data removed]",
      "text/plain": [
       "<Figure size 432x288 with 2 Axes>"
      ]
     },
     "metadata": {
      "needs_background": "light"
     },
     "output_type": "display_data"
    }
   ],
   "source": [
    "# Printing confusion matrix in the colored format seen below in output\n",
    "cm = confusion_matrix(y_val, predictions)\n",
    "cm\n",
    "class_names=[0, 1] # names of classes\n",
    "fig, ax = plt.subplots()\n",
    "tick_marks = np.arange(len(class_names))\n",
    "plt.xticks(tick_marks, class_names)\n",
    "plt.yticks(tick_marks, class_names)\n",
    "\n",
    "# Creating heatmap\n",
    "sns.heatmap(pd.DataFrame(cm), annot=True, cmap=\"YlGnBu\",fmt='g')\n",
    "ax.xaxis.set_label_position(\"top\")\n",
    "plt.tight_layout()\n",
    "plt.title('Confusion matrix', y=1.1)\n",
    "plt.ylabel('Actual label')\n",
    "plt.xlabel('Predicted label')\n",
    "plt.show()"
   ]
  },
  {
   "cell_type": "code",
   "execution_count": 266,
   "metadata": {},
   "outputs": [
    {
     "name": "stdout",
     "output_type": "stream",
     "text": [
      "Classification Report:\n",
      "              precision    recall  f1-score   support\n",
      "\n",
      "           0       0.97      0.99      0.98      1745\n",
      "           1       0.96      0.89      0.93       547\n",
      "\n",
      "    accuracy                           0.97      2292\n",
      "   macro avg       0.97      0.94      0.95      2292\n",
      "weighted avg       0.97      0.97      0.97      2292\n",
      "\n"
     ]
    }
   ],
   "source": [
    "# Printing classification report\n",
    "print(\"Classification Report:\")\n",
    "print(classification_report(y_val, predictions))"
   ]
  },
  {
   "cell_type": "markdown",
   "metadata": {},
   "source": [
    "#### Using a diiferent dataset to test the algorithm:"
   ]
  },
  {
   "cell_type": "code",
   "execution_count": 267,
   "metadata": {},
   "outputs": [
    {
     "name": "stdout",
     "output_type": "stream",
     "text": [
      "Accuracy score (validation): 0.717\n"
     ]
    }
   ],
   "source": [
    "# Testing using a different dataset\n",
    "test_data = pd.read_csv(\"D:\\ML\\Datasets\\spam.csv\", encoding='Windows-1252')\n",
    "test_data.v1 = test_data.v1.replace(to_replace=['ham', 'spam'], value =[0, 1])\n",
    "test_data.drop(test_data.columns[-3:], axis=1, inplace=True)\n",
    "\n",
    "y_test = test_data['v1']\n",
    "test_data.drop(labels='v1', axis=1, inplace=True)\n",
    "\n",
    "X_test = vectorizer.fit_transform(test_data.v2)\n",
    "print(\"Accuracy score (validation): {0:.3f}\".format(gb_clf.score(X_new, y_new)))"
   ]
  },
  {
   "cell_type": "code",
   "execution_count": 268,
   "metadata": {},
   "outputs": [
    {
     "name": "stdout",
     "output_type": "stream",
     "text": [
      "Confusion Matrix:\n",
      "[[3889  936]\n",
      " [ 641  106]]\n"
     ]
    }
   ],
   "source": [
    "# Testing trees\n",
    "predictions = gb_clf.predict(X_test)\n",
    "print('Confusion Matrix:') # printing confusion matrix using test values of Y and the predictive value of y\n",
    "print(confusion_matrix(y_test, predictions))"
   ]
  },
  {
   "cell_type": "code",
   "execution_count": 269,
   "metadata": {},
   "outputs": [
    {
     "name": "stdout",
     "output_type": "stream",
     "text": [
      "Classification Report:\n",
      "              precision    recall  f1-score   support\n",
      "\n",
      "           0       0.86      0.81      0.83      4825\n",
      "           1       0.10      0.14      0.12       747\n",
      "\n",
      "    accuracy                           0.72      5572\n",
      "   macro avg       0.48      0.47      0.47      5572\n",
      "weighted avg       0.76      0.72      0.74      5572\n",
      "\n"
     ]
    }
   ],
   "source": [
    "# Printing classification report\n",
    "print(\"Classification Report:\")\n",
    "print(classification_report(y_test, predictions))"
   ]
  }
 ],
 "metadata": {
  "kernelspec": {
   "display_name": "Python 3",
   "language": "python",
   "name": "python3"
  },
  "language_info": {
   "codemirror_mode": {
    "name": "ipython",
    "version": 3
   },
   "file_extension": ".py",
   "mimetype": "text/x-python",
   "name": "python",
   "nbconvert_exporter": "python",
   "pygments_lexer": "ipython3",
   "version": "3.8.5"
  }
 },
 "nbformat": 4,
 "nbformat_minor": 4
}
