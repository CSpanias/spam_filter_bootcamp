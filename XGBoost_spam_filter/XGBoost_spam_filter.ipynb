{
 "cells": [
  {
   "cell_type": "markdown",
   "metadata": {},
   "source": [
    "### XGBoost"
   ]
  },
  {
   "cell_type": "code",
   "execution_count": 11,
   "metadata": {},
   "outputs": [],
   "source": [
    "import numpy as np\n",
    "import pandas as pd\n",
    "import seaborn as sns\n",
    "import matplotlib.pyplot as plt\n",
    "\n",
    "from xgboost import XGBClassifier\n",
    "from sklearn.model_selection import cross_val_predict, KFold, cross_validate\n",
    "from sklearn.feature_extraction.text import CountVectorizer\n",
    "from sklearn.metrics import classification_report, confusion_matrix"
   ]
  },
  {
   "cell_type": "code",
   "execution_count": 12,
   "metadata": {},
   "outputs": [],
   "source": [
    "# Importing dataset and separating labels\n",
    "\n",
    "train_data = pd.read_csv(\"D:\\ML\\Datasets\\emails.csv\")\n",
    "y = train_data['spam']\n",
    "train_data.drop(labels='spam', axis=1, inplace=True)\n",
    "#train_data['text'] = train_data['text'].str.replace('\\d+', '')"
   ]
  },
  {
   "cell_type": "code",
   "execution_count": 13,
   "metadata": {},
   "outputs": [
    {
     "data": {
      "text/plain": [
       "(5728, 500)"
      ]
     },
     "execution_count": 13,
     "metadata": {},
     "output_type": "execute_result"
    }
   ],
   "source": [
    "# Creating bag of words\n",
    "\n",
    "vectorizer = CountVectorizer(stop_words=['subject'], max_features=500) \n",
    "                             #, strip_accents=\"unicode\")\n",
    "X = vectorizer.fit_transform(train_data.text)\n",
    "features = vectorizer.get_feature_names() # to check feature names if required\n",
    "X = X.toarray()\n",
    "X.shape"
   ]
  },
  {
   "cell_type": "code",
   "execution_count": 14,
   "metadata": {},
   "outputs": [],
   "source": [
    "# Specifying model and KFold parameters\n",
    "\n",
    "model = XGBClassifier(n_estimators=50, scale_pos_weight=3, max_depth=8, learning_rate=0.3, verbosity=0, random_state=1\n",
    "                      , reg_alpha=5, reg_lambda=0, use_label_encoder=False)\n",
    "cv = KFold(n_splits=10, random_state=1, shuffle=True)"
   ]
  },
  {
   "cell_type": "code",
   "execution_count": 15,
   "metadata": {},
   "outputs": [],
   "source": [
    "# Making Predictions\n",
    "\n",
    "predictions = cross_val_predict(model, X, y, cv=cv)"
   ]
  },
  {
   "cell_type": "code",
   "execution_count": 16,
   "metadata": {
    "scrolled": true
   },
   "outputs": [
    {
     "data": {
      "image/png": "[encoded data removed]",
      "text/plain": [
       "<Figure size 432x288 with 2 Axes>"
      ]
     },
     "metadata": {
      "needs_background": "light"
     },
     "output_type": "display_data"
    }
   ],
   "source": [
    "# Printing confusion matrix in the colored format seen below in output\n",
    "\n",
    "cm = confusion_matrix(y, predictions)\n",
    "class_names = [0, 1] # names of classes\n",
    "fig, ax = plt.subplots()\n",
    "tick_marks = np.arange(len(class_names))\n",
    "plt.xticks(tick_marks, class_names)\n",
    "plt.yticks(tick_marks, class_names)\n",
    "\n",
    "# Creating heatmap\n",
    "sns.heatmap(pd.DataFrame(cm), annot=True, cmap=\"YlGnBu\",fmt='g')\n",
    "ax.xaxis.set_label_position(\"top\")\n",
    "plt.tight_layout()\n",
    "plt.title('Confusion matrix', y=1.1)\n",
    "plt.ylabel('Actual label')\n",
    "plt.xlabel('Predicted label')\n",
    "plt.show()"
   ]
  },
  {
   "cell_type": "code",
   "execution_count": 17,
   "metadata": {
    "scrolled": true
   },
   "outputs": [
    {
     "name": "stdout",
     "output_type": "stream",
     "text": [
      "Classification Report:\n",
      "              precision    recall  f1-score   support\n",
      "\n",
      "           0       1.00      0.97      0.98      4360\n",
      "           1       0.92      0.99      0.95      1368\n",
      "\n",
      "    accuracy                           0.98      5728\n",
      "   macro avg       0.96      0.98      0.97      5728\n",
      "weighted avg       0.98      0.98      0.98      5728\n",
      "\n"
     ]
    }
   ],
   "source": [
    "# Printing classification report\n",
    "\n",
    "print(\"Classification Report:\")\n",
    "print(classification_report(y, predictions))"
   ]
  },
  {
   "cell_type": "code",
   "execution_count": 18,
   "metadata": {
    "scrolled": true
   },
   "outputs": [],
   "source": [
    "scores = cross_validate(model, X, y, cv=cv, scoring=('accuracy', 'precision', 'recall', 'roc_auc'), return_train_score=True)\n",
    "#print(scores.keys()) # to obtain dict keys"
   ]
  },
  {
   "cell_type": "code",
   "execution_count": 19,
   "metadata": {},
   "outputs": [
    {
     "name": "stdout",
     "output_type": "stream",
     "text": [
      "Mean accuracy score (training): 0.99\n",
      "Mean accuracy score (testing): 0.98\n",
      "Mean precision score (training): 0.97\n",
      "Mean precision score (testing): 0.92\n",
      "Mean recall score (training): 1.00\n",
      "Mean recall score (testing): 0.99\n",
      "Mean ROC AUC score (training): 1.00\n",
      "Mean ROC AUC score (testing): 1.00\n"
     ]
    }
   ],
   "source": [
    "mean_train_acc = round(np.mean((scores['train_accuracy'])), 2)\n",
    "mean_test_acc = round(np.mean((scores['test_accuracy'])), 2)\n",
    "mean_train_prec = round(np.mean((scores['train_precision'])), 2)\n",
    "mean_test_prec = round(np.mean((scores['test_precision'])), 2)\n",
    "mean_train_rec = round(np.mean((scores['train_recall'])), 2)\n",
    "mean_test_rec = round(np.mean((scores['test_recall'])), 2)\n",
    "mean_train_roc_auc = round(np.mean((scores['train_roc_auc']), dtype=np.float64), 2)\n",
    "mean_test_roc_auc = round(np.mean((scores['test_roc_auc']), dtype=np.float64), 2)\n",
    "print(\"Mean accuracy score (training): {0:.2f}\".format(mean_train_acc))\n",
    "print(\"Mean accuracy score (testing): {0:.2f}\".format(mean_test_acc))\n",
    "print(\"Mean precision score (training): {0:.2f}\".format(mean_train_prec))\n",
    "print(\"Mean precision score (testing): {0:.2f}\".format(mean_test_prec))\n",
    "print(\"Mean recall score (training): {0:.2f}\".format(mean_train_rec))\n",
    "print(\"Mean recall score (testing): {0:.2f}\".format(mean_test_rec))\n",
    "print(\"Mean ROC AUC score (training): {0:.2f}\".format(mean_train_roc_auc))\n",
    "print(\"Mean ROC AUC score (testing): {0:.2f}\".format(mean_test_roc_auc))"
   ]
  },
  {
   "cell_type": "code",
   "execution_count": 20,
   "metadata": {},
   "outputs": [
    {
     "name": "stdout",
     "output_type": "stream",
     "text": [
      "False Positive Rate (testing): 0.03\n",
      "False Negative Rate (testing): 0.01\n",
      "Specificity (testing): 0.96\n",
      "Sensitivity (testing): 0.99\n"
     ]
    }
   ],
   "source": [
    "FPR = 123 / (123 + 4237) # FP / FP + TN\n",
    "FNR = 20 / (20 + 1348) # FN / FN + TP\n",
    "TNR = 4237 / (4273 + 123) # TN / TN + FP (Specificity)\n",
    "TPR = 1348 / (1348 + 20)\n",
    "print(\"False Positive Rate (testing): {0:.2f}\".format(FPR))\n",
    "print(\"False Negative Rate (testing): {0:.2f}\".format(FNR))\n",
    "print(\"Specificity (testing): {0:.2f}\".format(TNR))\n",
    "print(\"Sensitivity (testing): {0:.2f}\".format(TPR))"
   ]
  }
 ],
 "metadata": {
  "kernelspec": {
   "display_name": "Python 3",
   "language": "python",
   "name": "python3"
  },
  "language_info": {
   "codemirror_mode": {
    "name": "ipython",
    "version": 3
   },
   "file_extension": ".py",
   "mimetype": "text/x-python",
   "name": "python",
   "nbconvert_exporter": "python",
   "pygments_lexer": "ipython3",
   "version": "3.8.5"
  }
 },
 "nbformat": 4,
 "nbformat_minor": 4
}
