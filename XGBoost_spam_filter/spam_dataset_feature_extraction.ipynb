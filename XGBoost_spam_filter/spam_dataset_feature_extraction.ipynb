{
 "cells": [
  {
   "cell_type": "code",
   "execution_count": 43,
   "metadata": {},
   "outputs": [],
   "source": [
    "import pandas as pd\n",
    "import numpy as np\n",
    "import seaborn as sns\n",
    "import matplotlib.pyplot as plt\n",
    "from sklearn.model_selection import train_test_split\n",
    "from sklearn.preprocessing import StandardScaler\n",
    "from sklearn.preprocessing import MinMaxScaler\n",
    "from sklearn.metrics import confusion_matrix\n",
    "from sklearn.metrics import accuracy_score\n",
    "from sklearn.discriminant_analysis import LinearDiscriminantAnalysis as LDA\n",
    "from sklearn.model_selection import cross_val_predict, KFold, cross_validate\n",
    "from sklearn.metrics import classification_report, confusion_matrix\n",
    "from sklearn.feature_extraction.text import CountVectorizer\n",
    "from sklearn.decomposition import PCA\n",
    "from collections import Counter\n",
    "from xgboost import XGBClassifier"
   ]
  },
  {
   "cell_type": "code",
   "execution_count": 26,
   "metadata": {},
   "outputs": [],
   "source": [
    "# Importing dataset and separating labels\n",
    "\n",
    "train_data = pd.read_csv(\"D:\\ML\\Datasets\\emails.csv\")\n",
    "train_data = train_data.drop_duplicates(subset=['text'])\n",
    "Y = train_data['spam']\n",
    "train_data.drop(labels='spam', axis=1, inplace=True)\n",
    "train_data['text'] = train_data['text'].str.replace('\\d+', '')"
   ]
  },
  {
   "cell_type": "code",
   "execution_count": 27,
   "metadata": {},
   "outputs": [
    {
     "data": {
      "text/html": [
       "<div>\n",
       "<style scoped>\n",
       "    .dataframe tbody tr th:only-of-type {\n",
       "        vertical-align: middle;\n",
       "    }\n",
       "\n",
       "    .dataframe tbody tr th {\n",
       "        vertical-align: top;\n",
       "    }\n",
       "\n",
       "    .dataframe thead th {\n",
       "        text-align: right;\n",
       "    }\n",
       "</style>\n",
       "<table border=\"1\" class=\"dataframe\">\n",
       "  <thead>\n",
       "    <tr style=\"text-align: right;\">\n",
       "      <th></th>\n",
       "      <th>text</th>\n",
       "    </tr>\n",
       "  </thead>\n",
       "  <tbody>\n",
       "    <tr>\n",
       "      <th>0</th>\n",
       "      <td>Subject: naturally irresistible your corporate...</td>\n",
       "    </tr>\n",
       "    <tr>\n",
       "      <th>1</th>\n",
       "      <td>Subject: the stock trading gunslinger  fanny i...</td>\n",
       "    </tr>\n",
       "    <tr>\n",
       "      <th>2</th>\n",
       "      <td>Subject: unbelievable new homes made easy  im ...</td>\n",
       "    </tr>\n",
       "    <tr>\n",
       "      <th>3</th>\n",
       "      <td>Subject:  color printing special  request addi...</td>\n",
       "    </tr>\n",
       "    <tr>\n",
       "      <th>4</th>\n",
       "      <td>Subject: do not have money , get software cds ...</td>\n",
       "    </tr>\n",
       "  </tbody>\n",
       "</table>\n",
       "</div>"
      ],
      "text/plain": [
       "                                                text\n",
       "0  Subject: naturally irresistible your corporate...\n",
       "1  Subject: the stock trading gunslinger  fanny i...\n",
       "2  Subject: unbelievable new homes made easy  im ...\n",
       "3  Subject:  color printing special  request addi...\n",
       "4  Subject: do not have money , get software cds ..."
      ]
     },
     "execution_count": 27,
     "metadata": {},
     "output_type": "execute_result"
    }
   ],
   "source": [
    "train_data.head()"
   ]
  },
  {
   "cell_type": "code",
   "execution_count": 45,
   "metadata": {
    "scrolled": true
   },
   "outputs": [
    {
     "data": {
      "text/plain": [
       "array([[0, 0, 0, ..., 0, 0, 0],\n",
       "       [0, 0, 0, ..., 0, 0, 0],\n",
       "       [0, 0, 0, ..., 0, 0, 0],\n",
       "       ...,\n",
       "       [0, 0, 0, ..., 0, 0, 0],\n",
       "       [0, 0, 0, ..., 0, 0, 0],\n",
       "       [0, 0, 0, ..., 0, 0, 0]], dtype=int64)"
      ]
     },
     "execution_count": 45,
     "metadata": {},
     "output_type": "execute_result"
    }
   ],
   "source": [
    "# Creating bag of words\n",
    "\n",
    "vectorizer = CountVectorizer(stop_words=['subject'])\n",
    "                             #, max_features=5000) \n",
    "                             #, strip_accents=\"unicode\")\n",
    "X = vectorizer.fit_transform(train_data.text)\n",
    "features = vectorizer.get_feature_names() # to check feature names if required\n",
    "X = X.toarray()\n",
    "X.shape\n",
    "X"
   ]
  },
  {
   "cell_type": "markdown",
   "metadata": {},
   "source": [
    "#### Feature scaling:"
   ]
  },
  {
   "cell_type": "code",
   "execution_count": 29,
   "metadata": {},
   "outputs": [
    {
     "data": {
      "text/plain": [
       "(-9.774471321782623e-18, 0.9999999999999816)"
      ]
     },
     "execution_count": 29,
     "metadata": {},
     "output_type": "execute_result"
    }
   ],
   "source": [
    "X = StandardScaler().fit_transform(X)\n",
    "np.mean(X), np.std(X)"
   ]
  },
  {
   "cell_type": "markdown",
   "metadata": {},
   "source": [
    "#### Implementing PCA and converting normalised features into a table format:"
   ]
  },
  {
   "cell_type": "code",
   "execution_count": 41,
   "metadata": {
    "scrolled": true
   },
   "outputs": [
    {
     "data": {
      "text/html": [
       "<div>\n",
       "<style scoped>\n",
       "    .dataframe tbody tr th:only-of-type {\n",
       "        vertical-align: middle;\n",
       "    }\n",
       "\n",
       "    .dataframe tbody tr th {\n",
       "        vertical-align: top;\n",
       "    }\n",
       "\n",
       "    .dataframe thead th {\n",
       "        text-align: right;\n",
       "    }\n",
       "</style>\n",
       "<table border=\"1\" class=\"dataframe\">\n",
       "  <thead>\n",
       "    <tr style=\"text-align: right;\">\n",
       "      <th></th>\n",
       "      <th>principal component 1</th>\n",
       "      <th>principal component 2</th>\n",
       "      <th>principal component 3</th>\n",
       "      <th>principal component 4</th>\n",
       "      <th>principal component 5</th>\n",
       "      <th>principal component 6</th>\n",
       "      <th>principal component 7</th>\n",
       "      <th>principal component 8</th>\n",
       "      <th>principal component 9</th>\n",
       "      <th>principal component 10</th>\n",
       "      <th>...</th>\n",
       "      <th>principal component 991</th>\n",
       "      <th>principal component 992</th>\n",
       "      <th>principal component 993</th>\n",
       "      <th>principal component 994</th>\n",
       "      <th>principal component 995</th>\n",
       "      <th>principal component 996</th>\n",
       "      <th>principal component 997</th>\n",
       "      <th>principal component 998</th>\n",
       "      <th>principal component 999</th>\n",
       "      <th>principal component 1000</th>\n",
       "    </tr>\n",
       "  </thead>\n",
       "  <tbody>\n",
       "    <tr>\n",
       "      <th>0</th>\n",
       "      <td>-1.558674</td>\n",
       "      <td>-1.110277</td>\n",
       "      <td>-0.207079</td>\n",
       "      <td>0.667832</td>\n",
       "      <td>-0.643762</td>\n",
       "      <td>-0.273966</td>\n",
       "      <td>-0.191961</td>\n",
       "      <td>0.416713</td>\n",
       "      <td>-0.250477</td>\n",
       "      <td>-0.640182</td>\n",
       "      <td>...</td>\n",
       "      <td>-0.092827</td>\n",
       "      <td>-0.134640</td>\n",
       "      <td>-0.118070</td>\n",
       "      <td>0.037697</td>\n",
       "      <td>-0.035711</td>\n",
       "      <td>0.197220</td>\n",
       "      <td>-0.244573</td>\n",
       "      <td>-0.017238</td>\n",
       "      <td>0.045968</td>\n",
       "      <td>-0.119016</td>\n",
       "    </tr>\n",
       "    <tr>\n",
       "      <th>1</th>\n",
       "      <td>-3.028479</td>\n",
       "      <td>-2.955322</td>\n",
       "      <td>-0.557559</td>\n",
       "      <td>2.908638</td>\n",
       "      <td>-1.322041</td>\n",
       "      <td>0.116352</td>\n",
       "      <td>-0.859542</td>\n",
       "      <td>0.788596</td>\n",
       "      <td>-0.196532</td>\n",
       "      <td>-0.285269</td>\n",
       "      <td>...</td>\n",
       "      <td>0.087961</td>\n",
       "      <td>-0.018650</td>\n",
       "      <td>-0.130346</td>\n",
       "      <td>0.100205</td>\n",
       "      <td>0.346920</td>\n",
       "      <td>-0.043629</td>\n",
       "      <td>0.031580</td>\n",
       "      <td>0.009630</td>\n",
       "      <td>-0.193251</td>\n",
       "      <td>-0.084518</td>\n",
       "    </tr>\n",
       "    <tr>\n",
       "      <th>2</th>\n",
       "      <td>-2.526475</td>\n",
       "      <td>-2.096221</td>\n",
       "      <td>-0.467766</td>\n",
       "      <td>2.049224</td>\n",
       "      <td>-0.935885</td>\n",
       "      <td>-0.128762</td>\n",
       "      <td>-0.612429</td>\n",
       "      <td>0.750124</td>\n",
       "      <td>-0.168625</td>\n",
       "      <td>-0.279716</td>\n",
       "      <td>...</td>\n",
       "      <td>-0.062123</td>\n",
       "      <td>-0.520658</td>\n",
       "      <td>-0.642943</td>\n",
       "      <td>-0.291398</td>\n",
       "      <td>0.410457</td>\n",
       "      <td>0.670408</td>\n",
       "      <td>-0.540421</td>\n",
       "      <td>-0.887811</td>\n",
       "      <td>0.568568</td>\n",
       "      <td>-1.377962</td>\n",
       "    </tr>\n",
       "    <tr>\n",
       "      <th>3</th>\n",
       "      <td>-2.837453</td>\n",
       "      <td>-2.221944</td>\n",
       "      <td>-0.473927</td>\n",
       "      <td>1.910358</td>\n",
       "      <td>-0.892489</td>\n",
       "      <td>-0.075118</td>\n",
       "      <td>-1.093675</td>\n",
       "      <td>0.323169</td>\n",
       "      <td>-0.178732</td>\n",
       "      <td>-0.713834</td>\n",
       "      <td>...</td>\n",
       "      <td>-11.141158</td>\n",
       "      <td>4.209872</td>\n",
       "      <td>-4.187997</td>\n",
       "      <td>-3.451872</td>\n",
       "      <td>4.640022</td>\n",
       "      <td>-5.378155</td>\n",
       "      <td>-0.455627</td>\n",
       "      <td>1.241300</td>\n",
       "      <td>2.939547</td>\n",
       "      <td>-3.210730</td>\n",
       "    </tr>\n",
       "    <tr>\n",
       "      <th>4</th>\n",
       "      <td>-2.261821</td>\n",
       "      <td>-2.546773</td>\n",
       "      <td>-0.536291</td>\n",
       "      <td>2.688066</td>\n",
       "      <td>-1.142498</td>\n",
       "      <td>-0.087040</td>\n",
       "      <td>-0.791075</td>\n",
       "      <td>0.491247</td>\n",
       "      <td>-0.202254</td>\n",
       "      <td>0.003967</td>\n",
       "      <td>...</td>\n",
       "      <td>-0.261102</td>\n",
       "      <td>-0.034840</td>\n",
       "      <td>0.612459</td>\n",
       "      <td>-0.299753</td>\n",
       "      <td>0.465935</td>\n",
       "      <td>0.373384</td>\n",
       "      <td>-0.035277</td>\n",
       "      <td>0.069370</td>\n",
       "      <td>-0.848062</td>\n",
       "      <td>-0.329822</td>\n",
       "    </tr>\n",
       "  </tbody>\n",
       "</table>\n",
       "<p>5 rows × 1000 columns</p>\n",
       "</div>"
      ],
      "text/plain": [
       "   principal component 1  principal component 2  principal component 3  \\\n",
       "0              -1.558674              -1.110277              -0.207079   \n",
       "1              -3.028479              -2.955322              -0.557559   \n",
       "2              -2.526475              -2.096221              -0.467766   \n",
       "3              -2.837453              -2.221944              -0.473927   \n",
       "4              -2.261821              -2.546773              -0.536291   \n",
       "\n",
       "   principal component 4  principal component 5  principal component 6  \\\n",
       "0               0.667832              -0.643762              -0.273966   \n",
       "1               2.908638              -1.322041               0.116352   \n",
       "2               2.049224              -0.935885              -0.128762   \n",
       "3               1.910358              -0.892489              -0.075118   \n",
       "4               2.688066              -1.142498              -0.087040   \n",
       "\n",
       "   principal component 7  principal component 8  principal component 9  \\\n",
       "0              -0.191961               0.416713              -0.250477   \n",
       "1              -0.859542               0.788596              -0.196532   \n",
       "2              -0.612429               0.750124              -0.168625   \n",
       "3              -1.093675               0.323169              -0.178732   \n",
       "4              -0.791075               0.491247              -0.202254   \n",
       "\n",
       "   principal component 10  ...  principal component 991  \\\n",
       "0               -0.640182  ...                -0.092827   \n",
       "1               -0.285269  ...                 0.087961   \n",
       "2               -0.279716  ...                -0.062123   \n",
       "3               -0.713834  ...               -11.141158   \n",
       "4                0.003967  ...                -0.261102   \n",
       "\n",
       "   principal component 992  principal component 993  principal component 994  \\\n",
       "0                -0.134640                -0.118070                 0.037697   \n",
       "1                -0.018650                -0.130346                 0.100205   \n",
       "2                -0.520658                -0.642943                -0.291398   \n",
       "3                 4.209872                -4.187997                -3.451872   \n",
       "4                -0.034840                 0.612459                -0.299753   \n",
       "\n",
       "   principal component 995  principal component 996  principal component 997  \\\n",
       "0                -0.035711                 0.197220                -0.244573   \n",
       "1                 0.346920                -0.043629                 0.031580   \n",
       "2                 0.410457                 0.670408                -0.540421   \n",
       "3                 4.640022                -5.378155                -0.455627   \n",
       "4                 0.465935                 0.373384                -0.035277   \n",
       "\n",
       "   principal component 998  principal component 999  principal component 1000  \n",
       "0                -0.017238                 0.045968                 -0.119016  \n",
       "1                 0.009630                -0.193251                 -0.084518  \n",
       "2                -0.887811                 0.568568                 -1.377962  \n",
       "3                 1.241300                 2.939547                 -3.210730  \n",
       "4                 0.069370                -0.848062                 -0.329822  \n",
       "\n",
       "[5 rows x 1000 columns]"
      ]
     },
     "execution_count": 41,
     "metadata": {},
     "output_type": "execute_result"
    }
   ],
   "source": [
    "pca_spam = PCA(n_components=1000)\n",
    "principalComponents_spam = pca_spam.fit_transform(X)\n",
    "feat_cols = ['principal component ' + str(i + 1) for i in range (principalComponents_spam.shape[1])]\n",
    "principal_spam_Df = pd.DataFrame(data=principalComponents_spam, columns=feat_cols)\n",
    "principal_spam_Df.head()"
   ]
  },
  {
   "cell_type": "code",
   "execution_count": 31,
   "metadata": {},
   "outputs": [],
   "source": [
    "# percentage of variance explained for each components.explained_variance_ratio is used to calculate the variance ratio\n",
    "# between the first two components\n",
    "#print('Explained variation per principal component : {}'.format(pca_spam.explained_variance_ratio_))"
   ]
  },
  {
   "cell_type": "code",
   "execution_count": 42,
   "metadata": {},
   "outputs": [
    {
     "name": "stdout",
     "output_type": "stream",
     "text": [
      "0.7153520948014098\n"
     ]
    }
   ],
   "source": [
    "explained_variation_total = pca_spam.explained_variance_ratio_\n",
    "#explained_variation_total.shape\n",
    "print(np.sum(explained_variation_total))"
   ]
  },
  {
   "cell_type": "code",
   "execution_count": 33,
   "metadata": {},
   "outputs": [],
   "source": [
    "# creating dataframes\n",
    "\n",
    "pca_feature = principal_spam_Df\n",
    "pca_label = pd.DataFrame(data=list(Y), columns=['label'])"
   ]
  },
  {
   "cell_type": "code",
   "execution_count": 34,
   "metadata": {
    "scrolled": false
   },
   "outputs": [
    {
     "data": {
      "text/plain": [
       "<Figure size 432x288 with 0 Axes>"
      ]
     },
     "metadata": {},
     "output_type": "display_data"
    },
    {
     "data": {
      "image/png": "[encoded data removed]",
      "text/plain": [
       "<Figure size 720x720 with 1 Axes>"
      ]
     },
     "metadata": {
      "needs_background": "light"
     },
     "output_type": "display_data"
    }
   ],
   "source": [
    "# visualizing the transformed variables by plotting the principal component\n",
    "\n",
    "plt.figure()\n",
    "plt.figure(figsize=(10, 10))\n",
    "plt.xticks(fontsize=12)\n",
    "plt.xlabel('Principal Component - 1', fontsize=20)\n",
    "plt.title (\"Principal Component Analysis of Spam Email Dataset\", fontsize=20)\n",
    "#targets=['Benign', 'Malignant']\n",
    "targets = [0, 1]\n",
    "colors = ['r', 'g']\n",
    "for target, color in zip(targets, colors):\n",
    "    indicesToKeep = pca_label['label'] == target\n",
    "    y = np.zeros(pca_feature.loc[indicesToKeep, 'principal component 1'].shape)\n",
    "    plt.scatter(pca_feature.loc[indicesToKeep,'principal component 1'], y, c=color, s=50)\n",
    "plt.legend(targets, prop={'size': 15})\n",
    "plt.show()"
   ]
  },
  {
   "cell_type": "code",
   "execution_count": 14,
   "metadata": {},
   "outputs": [],
   "source": [
    "# Specifying model and KFold parameters\n",
    "\n",
    "model = XGBClassifier(n_estimators=50, scale_pos_weight=3, max_depth=8, learning_rate=0.3, verbosity=0, random_state=1\n",
    "                      , reg_alpha=5, reg_lambda=0, use_label_encoder=False)\n",
    "cv = KFold(n_splits=10, random_state=1, shuffle=True)"
   ]
  },
  {
   "cell_type": "code",
   "execution_count": 15,
   "metadata": {},
   "outputs": [],
   "source": [
    "# Making Predictions\n",
    "\n",
    "predictions = cross_val_predict(model, X, y, cv=cv)"
   ]
  },
  {
   "cell_type": "code",
   "execution_count": 16,
   "metadata": {
    "scrolled": true
   },
   "outputs": [
    {
     "data": {
      "image/png": "[encoded data removed]",
      "text/plain": [
       "<Figure size 432x288 with 2 Axes>"
      ]
     },
     "metadata": {
      "needs_background": "light"
     },
     "output_type": "display_data"
    }
   ],
   "source": [
    "# Printing confusion matrix in the colored format seen below in output\n",
    "\n",
    "cm = confusion_matrix(y, predictions)\n",
    "class_names = [0, 1] # names of classes\n",
    "fig, ax = plt.subplots()\n",
    "tick_marks = np.arange(len(class_names))\n",
    "plt.xticks(tick_marks, class_names)\n",
    "plt.yticks(tick_marks, class_names)\n",
    "\n",
    "# Creating heatmap\n",
    "sns.heatmap(pd.DataFrame(cm), annot=True, cmap=\"YlGnBu\", fmt='g')\n",
    "ax.xaxis.set_label_position(\"top\")\n",
    "plt.tight_layout()\n",
    "plt.title('Confusion matrix', y=1.1)\n",
    "plt.ylabel('Actual label')\n",
    "plt.xlabel('Predicted label')\n",
    "plt.show()"
   ]
  },
  {
   "cell_type": "code",
   "execution_count": 17,
   "metadata": {
    "scrolled": true
   },
   "outputs": [
    {
     "name": "stdout",
     "output_type": "stream",
     "text": [
      "Classification Report:\n",
      "              precision    recall  f1-score   support\n",
      "\n",
      "           0       1.00      0.97      0.98      4360\n",
      "           1       0.92      0.99      0.95      1368\n",
      "\n",
      "    accuracy                           0.98      5728\n",
      "   macro avg       0.96      0.98      0.97      5728\n",
      "weighted avg       0.98      0.98      0.98      5728\n",
      "\n"
     ]
    }
   ],
   "source": [
    "# Printing classification report\n",
    "\n",
    "print(\"Classification Report:\")\n",
    "print(classification_report(y, predictions))"
   ]
  },
  {
   "cell_type": "code",
   "execution_count": 18,
   "metadata": {
    "scrolled": true
   },
   "outputs": [],
   "source": [
    "scores = cross_validate(model, X, y, cv=cv, scoring=('accuracy', 'precision', 'recall', 'roc_auc'), return_train_score=True)\n",
    "#print(scores.keys()) # to obtain dict keys"
   ]
  },
  {
   "cell_type": "code",
   "execution_count": 19,
   "metadata": {},
   "outputs": [
    {
     "name": "stdout",
     "output_type": "stream",
     "text": [
      "Mean accuracy score (training): 0.99\n",
      "Mean accuracy score (testing): 0.98\n",
      "Mean precision score (training): 0.97\n",
      "Mean precision score (testing): 0.92\n",
      "Mean recall score (training): 1.00\n",
      "Mean recall score (testing): 0.99\n",
      "Mean ROC AUC score (training): 1.00\n",
      "Mean ROC AUC score (testing): 1.00\n"
     ]
    }
   ],
   "source": [
    "mean_train_acc = round(np.mean((scores['train_accuracy'])), 2)\n",
    "mean_test_acc = round(np.mean((scores['test_accuracy'])), 2)\n",
    "mean_train_prec = round(np.mean((scores['train_precision'])), 2)\n",
    "mean_test_prec = round(np.mean((scores['test_precision'])), 2)\n",
    "mean_train_rec = round(np.mean((scores['train_recall'])), 2)\n",
    "mean_test_rec = round(np.mean((scores['test_recall'])), 2)\n",
    "mean_train_roc_auc = round(np.mean((scores['train_roc_auc']), dtype=np.float64), 2)\n",
    "mean_test_roc_auc = round(np.mean((scores['test_roc_auc']), dtype=np.float64), 2)\n",
    "print(\"Mean accuracy score (training): {0:.2f}\".format(mean_train_acc))\n",
    "print(\"Mean accuracy score (testing): {0:.2f}\".format(mean_test_acc))\n",
    "print(\"Mean precision score (training): {0:.2f}\".format(mean_train_prec))\n",
    "print(\"Mean precision score (testing): {0:.2f}\".format(mean_test_prec))\n",
    "print(\"Mean recall score (training): {0:.2f}\".format(mean_train_rec))\n",
    "print(\"Mean recall score (testing): {0:.2f}\".format(mean_test_rec))\n",
    "print(\"Mean ROC AUC score (training): {0:.2f}\".format(mean_train_roc_auc))\n",
    "print(\"Mean ROC AUC score (testing): {0:.2f}\".format(mean_test_roc_auc))"
   ]
  },
  {
   "cell_type": "code",
   "execution_count": 20,
   "metadata": {},
   "outputs": [
    {
     "name": "stdout",
     "output_type": "stream",
     "text": [
      "False Positive Rate (testing): 0.03\n",
      "False Negative Rate (testing): 0.01\n",
      "Specificity (testing): 0.96\n",
      "Sensitivity (testing): 0.99\n"
     ]
    }
   ],
   "source": [
    "FPR = 123 / (123 + 4237) # FP / FP + TN\n",
    "FNR = 20 / (20 + 1348) # FN / FN + TP\n",
    "TNR = 4237 / (4273 + 123) # TN / TN + FP (Specificity)\n",
    "TPR = 1348 / (1348 + 20)\n",
    "print(\"False Positive Rate (testing): {0:.2f}\".format(FPR))\n",
    "print(\"False Negative Rate (testing): {0:.2f}\".format(FNR))\n",
    "print(\"Specificity (testing): {0:.2f}\".format(TNR))\n",
    "print(\"Sensitivity (testing): {0:.2f}\".format(TPR))"
   ]
  },
  {
   "cell_type": "code",
   "execution_count": null,
   "metadata": {},
   "outputs": [],
   "source": []
  }
 ],
 "metadata": {
  "kernelspec": {
   "display_name": "Python 3",
   "language": "python",
   "name": "python3"
  },
  "language_info": {
   "codemirror_mode": {
    "name": "ipython",
    "version": 3
   },
   "file_extension": ".py",
   "mimetype": "text/x-python",
   "name": "python",
   "nbconvert_exporter": "python",
   "pygments_lexer": "ipython3",
   "version": "3.8.5"
  }
 },
 "nbformat": 4,
 "nbformat_minor": 4
}
